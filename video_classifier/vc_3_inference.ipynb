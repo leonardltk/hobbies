{
 "cells": [
  {
   "cell_type": "code",
   "execution_count": 1,
   "id": "694eb145-cad1-4396-8d01-c8565333a1ea",
   "metadata": {},
   "outputs": [],
   "source": [
    "import os\n",
    "import cv2\n",
    "import pdb\n",
    "import json\n",
    "import base64\n",
    "import traceback\n",
    "from typing import Any, Dict, List, Optional\n",
    "\n",
    "import pandas as pd\n",
    "from rich import print as rich_print\n",
    "from dotenv import load_dotenv, find_dotenv\n",
    "\n",
    "from openai import OpenAI, BadRequestError, APIStatusError\n",
    "from prompts import SYSTEM_PROMPT_FILM_CLASSIFICATION"
   ]
  },
  {
   "cell_type": "code",
   "execution_count": null,
   "id": "aa043ca3-f084-41bd-9e02-334fbaab1f9c",
   "metadata": {},
   "outputs": [],
   "source": [
    "from IPython.display import display, HTML"
   ]
  },
  {
   "cell_type": "code",
   "execution_count": 16,
   "id": "ca007a20-a41e-4335-910f-c459fd775543",
   "metadata": {},
   "outputs": [],
   "source": [
    "pd.set_option('display.max_colwidth', None)  # Show full content in each column\n",
    "pd.set_option('display.max_columns', None)   # Display all columns\n",
    "pd.set_option('display.max_rows', None)      # Display all rows\n",
    "pd.set_option('display.width', None)         # Adjust display width to fit content"
   ]
  },
  {
   "cell_type": "code",
   "execution_count": 2,
   "id": "fab78316-4970-412f-9311-f94222e8978c",
   "metadata": {},
   "outputs": [],
   "source": [
    "def extract_frames_as_data_urls(\n",
    "    video_path: str,\n",
    "    interval_sec: float = 1.0,\n",
    "    limit: Optional[int] = None,\n",
    "    jpeg_quality: int = 92,\n",
    "    target_width: int = 480,\n",
    ") -> List[Dict[str, str]]:\n",
    "    \"\"\"Return data URLs for frames sampled every `interval_sec` seconds.\n",
    "\n",
    "    Output element example:\n",
    "    {\"type\": \"input_image\", \"image_url\": \"data:image/jpeg;base64,<...>\"}\n",
    "    \"\"\"\n",
    "    cap = cv2.VideoCapture(str(video_path))\n",
    "    if not cap.isOpened():\n",
    "        raise ValueError(f\"Could not open video: {video_path}\")\n",
    "\n",
    "    fps = cap.get(cv2.CAP_PROP_FPS)\n",
    "    if not fps or fps <= 0:\n",
    "        fps = 24.0\n",
    "    frame_interval = max(1, int(round(fps * interval_sec)))\n",
    "\n",
    "    out: List[Dict[str, str]] = []\n",
    "    frame_no = 0\n",
    "\n",
    "    while True:\n",
    "        ok, frame = cap.read()\n",
    "        if not ok:\n",
    "            break\n",
    "\n",
    "        if frame_no % frame_interval == 0:\n",
    "            if limit is not None and len(out) >= limit:\n",
    "                print(f'ignoring frame_no={frame_no}')\n",
    "                frame_no += 1\n",
    "                continue\n",
    "                # break\n",
    "            # Resize the frame before encoding (e.g., to width=640, keep aspect ratio)\n",
    "            h, w = frame.shape[:2]\n",
    "            if w > target_width:\n",
    "                aspect_ratio = h / w\n",
    "                new_height = int(target_width * aspect_ratio)\n",
    "                frame_resized = cv2.resize(frame, (target_width, new_height))\n",
    "            else:\n",
    "                frame_resized = frame\n",
    "\n",
    "            ok_jpg, buf = cv2.imencode(\n",
    "                \".jpg\", frame_resized, [int(cv2.IMWRITE_JPEG_QUALITY), int(jpeg_quality)]\n",
    "            )\n",
    "            print(f'attaching frame_no={frame_no}, original_shape={frame.shape}, resized_shape={frame_resized.shape}')\n",
    "            if ok_jpg:\n",
    "                b64 = base64.b64encode(buf.tobytes()).decode(\"utf-8\")\n",
    "                out.append({\n",
    "                    \"type\": \"input_image\",\n",
    "                    \"image_url\": f\"data:image/jpeg;base64,{b64}\",\n",
    "                })\n",
    "\n",
    "        frame_no += 1\n",
    "\n",
    "    cap.release()\n",
    "    return out"
   ]
  },
  {
   "cell_type": "code",
   "execution_count": 3,
   "id": "8f614126-4c1e-47ff-a225-bc2e77263ea6",
   "metadata": {},
   "outputs": [],
   "source": [
    "def make_message(video_content_lst):\n",
    "    input_messages = [\n",
    "        {\n",
    "            \"role\": \"system\",\n",
    "            \"content\": [\n",
    "                {\"type\": \"input_text\", \"text\": SYSTEM_PROMPT_FILM_CLASSIFICATION},\n",
    "            ],\n",
    "        },\n",
    "        {\n",
    "            \"role\": \"user\",\n",
    "            \"content\": [\n",
    "                {\n",
    "                    \"type\": \"input_text\",\n",
    "                    \"text\": (\n",
    "                        \"You are given a sample of frames from the film. \"\n",
    "                        \"Classify strictly per the schema and return only valid JSON.\"\n",
    "                    ),\n",
    "                },\n",
    "            ] + video_content_lst,\n",
    "        }\n",
    "    ]\n",
    "    return input_messages\n",
    "\n",
    "def chunk_list(items: List[Any], chunk_size: int) -> List[List[Any]]:\n",
    "    \"\"\"Split a list into consecutive chunks of size `chunk_size`.\n",
    "\n",
    "    Returns a list of lists; the last chunk may be smaller if the\n",
    "    total number of items is not divisible by `chunk_size`.\n",
    "    \"\"\"\n",
    "    if chunk_size <= 0:\n",
    "        raise ValueError(\"chunk_size must be positive\")\n",
    "    return [items[i : i + chunk_size] for i in range(0, len(items), chunk_size)]\n",
    "\n",
    "def inference_text(client, input_messages):\n",
    "    response = client.responses.create(\n",
    "        model=\"gpt-5\",\n",
    "        input = input_messages,\n",
    "    )\n",
    "    # usage=ResponseUsage(input_tokens=22807, input_tokens_details=InputTokensDetails(cached_tokens=0), output_tokens=1896, output_tokens_details=OutputTokensDetails(reasoning_tokens=1280), total_tokens=24703),\n",
    "    return response"
   ]
  },
  {
   "cell_type": "markdown",
   "id": "e2eda6b6-15fb-4e91-82e9-b0e7452df155",
   "metadata": {},
   "source": [
    "# initialise client"
   ]
  },
  {
   "cell_type": "code",
   "execution_count": 4,
   "id": "f3403d1d-1756-412d-a886-57859a0cdb5b",
   "metadata": {
    "scrolled": true
   },
   "outputs": [],
   "source": [
    "load_dotenv(find_dotenv())\n",
    "os.environ[\"OPENAI_API_KEY\"] = os.getenv(\"OPENAI_API_KEY\")\n",
    "\n",
    "client = OpenAI()"
   ]
  },
  {
   "cell_type": "markdown",
   "id": "a3a8c7fa-bf7d-4d38-90c2-1c97cf49b997",
   "metadata": {},
   "source": [
    "# Final_Destination"
   ]
  },
  {
   "cell_type": "code",
   "execution_count": 5,
   "id": "b9538b0a-ffa6-49aa-beac-fe26bf0298a5",
   "metadata": {
    "collapsed": true,
    "jupyter": {
     "outputs_hidden": true
    },
    "scrolled": true
   },
   "outputs": [
    {
     "name": "stdout",
     "output_type": "stream",
     "text": [
      "attaching frame_no=0, original_shape=(360, 640, 3), resized_shape=(270, 480, 3)\n",
      "attaching frame_no=24, original_shape=(360, 640, 3), resized_shape=(270, 480, 3)\n",
      "attaching frame_no=48, original_shape=(360, 640, 3), resized_shape=(270, 480, 3)\n",
      "attaching frame_no=72, original_shape=(360, 640, 3), resized_shape=(270, 480, 3)\n",
      "attaching frame_no=96, original_shape=(360, 640, 3), resized_shape=(270, 480, 3)\n",
      "attaching frame_no=120, original_shape=(360, 640, 3), resized_shape=(270, 480, 3)\n",
      "attaching frame_no=144, original_shape=(360, 640, 3), resized_shape=(270, 480, 3)\n",
      "attaching frame_no=168, original_shape=(360, 640, 3), resized_shape=(270, 480, 3)\n",
      "attaching frame_no=192, original_shape=(360, 640, 3), resized_shape=(270, 480, 3)\n",
      "attaching frame_no=216, original_shape=(360, 640, 3), resized_shape=(270, 480, 3)\n",
      "attaching frame_no=240, original_shape=(360, 640, 3), resized_shape=(270, 480, 3)\n",
      "attaching frame_no=264, original_shape=(360, 640, 3), resized_shape=(270, 480, 3)\n",
      "attaching frame_no=288, original_shape=(360, 640, 3), resized_shape=(270, 480, 3)\n",
      "attaching frame_no=312, original_shape=(360, 640, 3), resized_shape=(270, 480, 3)\n",
      "attaching frame_no=336, original_shape=(360, 640, 3), resized_shape=(270, 480, 3)\n",
      "attaching frame_no=360, original_shape=(360, 640, 3), resized_shape=(270, 480, 3)\n",
      "attaching frame_no=384, original_shape=(360, 640, 3), resized_shape=(270, 480, 3)\n",
      "attaching frame_no=408, original_shape=(360, 640, 3), resized_shape=(270, 480, 3)\n",
      "attaching frame_no=432, original_shape=(360, 640, 3), resized_shape=(270, 480, 3)\n",
      "attaching frame_no=456, original_shape=(360, 640, 3), resized_shape=(270, 480, 3)\n",
      "attaching frame_no=480, original_shape=(360, 640, 3), resized_shape=(270, 480, 3)\n",
      "attaching frame_no=504, original_shape=(360, 640, 3), resized_shape=(270, 480, 3)\n",
      "attaching frame_no=528, original_shape=(360, 640, 3), resized_shape=(270, 480, 3)\n",
      "attaching frame_no=552, original_shape=(360, 640, 3), resized_shape=(270, 480, 3)\n",
      "attaching frame_no=576, original_shape=(360, 640, 3), resized_shape=(270, 480, 3)\n",
      "attaching frame_no=600, original_shape=(360, 640, 3), resized_shape=(270, 480, 3)\n",
      "attaching frame_no=624, original_shape=(360, 640, 3), resized_shape=(270, 480, 3)\n",
      "attaching frame_no=648, original_shape=(360, 640, 3), resized_shape=(270, 480, 3)\n",
      "attaching frame_no=672, original_shape=(360, 640, 3), resized_shape=(270, 480, 3)\n",
      "attaching frame_no=696, original_shape=(360, 640, 3), resized_shape=(270, 480, 3)\n",
      "attaching frame_no=720, original_shape=(360, 640, 3), resized_shape=(270, 480, 3)\n",
      "attaching frame_no=744, original_shape=(360, 640, 3), resized_shape=(270, 480, 3)\n",
      "attaching frame_no=768, original_shape=(360, 640, 3), resized_shape=(270, 480, 3)\n",
      "attaching frame_no=792, original_shape=(360, 640, 3), resized_shape=(270, 480, 3)\n",
      "attaching frame_no=816, original_shape=(360, 640, 3), resized_shape=(270, 480, 3)\n",
      "attaching frame_no=840, original_shape=(360, 640, 3), resized_shape=(270, 480, 3)\n",
      "attaching frame_no=864, original_shape=(360, 640, 3), resized_shape=(270, 480, 3)\n",
      "attaching frame_no=888, original_shape=(360, 640, 3), resized_shape=(270, 480, 3)\n",
      "attaching frame_no=912, original_shape=(360, 640, 3), resized_shape=(270, 480, 3)\n",
      "attaching frame_no=936, original_shape=(360, 640, 3), resized_shape=(270, 480, 3)\n",
      "attaching frame_no=960, original_shape=(360, 640, 3), resized_shape=(270, 480, 3)\n",
      "attaching frame_no=984, original_shape=(360, 640, 3), resized_shape=(270, 480, 3)\n",
      "attaching frame_no=1008, original_shape=(360, 640, 3), resized_shape=(270, 480, 3)\n",
      "attaching frame_no=1032, original_shape=(360, 640, 3), resized_shape=(270, 480, 3)\n",
      "attaching frame_no=1056, original_shape=(360, 640, 3), resized_shape=(270, 480, 3)\n",
      "attaching frame_no=1080, original_shape=(360, 640, 3), resized_shape=(270, 480, 3)\n",
      "attaching frame_no=1104, original_shape=(360, 640, 3), resized_shape=(270, 480, 3)\n",
      "attaching frame_no=1128, original_shape=(360, 640, 3), resized_shape=(270, 480, 3)\n",
      "attaching frame_no=1152, original_shape=(360, 640, 3), resized_shape=(270, 480, 3)\n",
      "attaching frame_no=1176, original_shape=(360, 640, 3), resized_shape=(270, 480, 3)\n",
      "attaching frame_no=1200, original_shape=(360, 640, 3), resized_shape=(270, 480, 3)\n",
      "attaching frame_no=1224, original_shape=(360, 640, 3), resized_shape=(270, 480, 3)\n",
      "attaching frame_no=1248, original_shape=(360, 640, 3), resized_shape=(270, 480, 3)\n",
      "attaching frame_no=1272, original_shape=(360, 640, 3), resized_shape=(270, 480, 3)\n",
      "attaching frame_no=1296, original_shape=(360, 640, 3), resized_shape=(270, 480, 3)\n",
      "attaching frame_no=1320, original_shape=(360, 640, 3), resized_shape=(270, 480, 3)\n",
      "attaching frame_no=1344, original_shape=(360, 640, 3), resized_shape=(270, 480, 3)\n",
      "attaching frame_no=1368, original_shape=(360, 640, 3), resized_shape=(270, 480, 3)\n",
      "attaching frame_no=1392, original_shape=(360, 640, 3), resized_shape=(270, 480, 3)\n",
      "attaching frame_no=1416, original_shape=(360, 640, 3), resized_shape=(270, 480, 3)\n",
      "attaching frame_no=1440, original_shape=(360, 640, 3), resized_shape=(270, 480, 3)\n",
      "attaching frame_no=1464, original_shape=(360, 640, 3), resized_shape=(270, 480, 3)\n",
      "attaching frame_no=1488, original_shape=(360, 640, 3), resized_shape=(270, 480, 3)\n",
      "attaching frame_no=1512, original_shape=(360, 640, 3), resized_shape=(270, 480, 3)\n",
      "attaching frame_no=1536, original_shape=(360, 640, 3), resized_shape=(270, 480, 3)\n",
      "attaching frame_no=1560, original_shape=(360, 640, 3), resized_shape=(270, 480, 3)\n",
      "attaching frame_no=1584, original_shape=(360, 640, 3), resized_shape=(270, 480, 3)\n",
      "attaching frame_no=1608, original_shape=(360, 640, 3), resized_shape=(270, 480, 3)\n",
      "attaching frame_no=1632, original_shape=(360, 640, 3), resized_shape=(270, 480, 3)\n",
      "attaching frame_no=1656, original_shape=(360, 640, 3), resized_shape=(270, 480, 3)\n",
      "attaching frame_no=1680, original_shape=(360, 640, 3), resized_shape=(270, 480, 3)\n",
      "attaching frame_no=1704, original_shape=(360, 640, 3), resized_shape=(270, 480, 3)\n",
      "attaching frame_no=1728, original_shape=(360, 640, 3), resized_shape=(270, 480, 3)\n",
      "attaching frame_no=1752, original_shape=(360, 640, 3), resized_shape=(270, 480, 3)\n",
      "attaching frame_no=1776, original_shape=(360, 640, 3), resized_shape=(270, 480, 3)\n",
      "attaching frame_no=1800, original_shape=(360, 640, 3), resized_shape=(270, 480, 3)\n",
      "attaching frame_no=1824, original_shape=(360, 640, 3), resized_shape=(270, 480, 3)\n",
      "attaching frame_no=1848, original_shape=(360, 640, 3), resized_shape=(270, 480, 3)\n",
      "attaching frame_no=1872, original_shape=(360, 640, 3), resized_shape=(270, 480, 3)\n",
      "attaching frame_no=1896, original_shape=(360, 640, 3), resized_shape=(270, 480, 3)\n",
      "attaching frame_no=1920, original_shape=(360, 640, 3), resized_shape=(270, 480, 3)\n",
      "attaching frame_no=1944, original_shape=(360, 640, 3), resized_shape=(270, 480, 3)\n",
      "attaching frame_no=1968, original_shape=(360, 640, 3), resized_shape=(270, 480, 3)\n",
      "attaching frame_no=1992, original_shape=(360, 640, 3), resized_shape=(270, 480, 3)\n",
      "attaching frame_no=2016, original_shape=(360, 640, 3), resized_shape=(270, 480, 3)\n",
      "attaching frame_no=2040, original_shape=(360, 640, 3), resized_shape=(270, 480, 3)\n",
      "attaching frame_no=2064, original_shape=(360, 640, 3), resized_shape=(270, 480, 3)\n",
      "attaching frame_no=2088, original_shape=(360, 640, 3), resized_shape=(270, 480, 3)\n",
      "attaching frame_no=2112, original_shape=(360, 640, 3), resized_shape=(270, 480, 3)\n",
      "attaching frame_no=2136, original_shape=(360, 640, 3), resized_shape=(270, 480, 3)\n",
      "attaching frame_no=2160, original_shape=(360, 640, 3), resized_shape=(270, 480, 3)\n",
      "attaching frame_no=2184, original_shape=(360, 640, 3), resized_shape=(270, 480, 3)\n",
      "attaching frame_no=2208, original_shape=(360, 640, 3), resized_shape=(270, 480, 3)\n",
      "attaching frame_no=2232, original_shape=(360, 640, 3), resized_shape=(270, 480, 3)\n",
      "attaching frame_no=2256, original_shape=(360, 640, 3), resized_shape=(270, 480, 3)\n",
      "attaching frame_no=2280, original_shape=(360, 640, 3), resized_shape=(270, 480, 3)\n",
      "attaching frame_no=2304, original_shape=(360, 640, 3), resized_shape=(270, 480, 3)\n",
      "attaching frame_no=2328, original_shape=(360, 640, 3), resized_shape=(270, 480, 3)\n",
      "attaching frame_no=2352, original_shape=(360, 640, 3), resized_shape=(270, 480, 3)\n",
      "attaching frame_no=2376, original_shape=(360, 640, 3), resized_shape=(270, 480, 3)\n",
      "attaching frame_no=2400, original_shape=(360, 640, 3), resized_shape=(270, 480, 3)\n",
      "attaching frame_no=2424, original_shape=(360, 640, 3), resized_shape=(270, 480, 3)\n",
      "attaching frame_no=2448, original_shape=(360, 640, 3), resized_shape=(270, 480, 3)\n",
      "attaching frame_no=2472, original_shape=(360, 640, 3), resized_shape=(270, 480, 3)\n",
      "attaching frame_no=2496, original_shape=(360, 640, 3), resized_shape=(270, 480, 3)\n",
      "attaching frame_no=2520, original_shape=(360, 640, 3), resized_shape=(270, 480, 3)\n",
      "attaching frame_no=2544, original_shape=(360, 640, 3), resized_shape=(270, 480, 3)\n",
      "attaching frame_no=2568, original_shape=(360, 640, 3), resized_shape=(270, 480, 3)\n",
      "attaching frame_no=2592, original_shape=(360, 640, 3), resized_shape=(270, 480, 3)\n",
      "attaching frame_no=2616, original_shape=(360, 640, 3), resized_shape=(270, 480, 3)\n",
      "attaching frame_no=2640, original_shape=(360, 640, 3), resized_shape=(270, 480, 3)\n",
      "attaching frame_no=2664, original_shape=(360, 640, 3), resized_shape=(270, 480, 3)\n",
      "attaching frame_no=2688, original_shape=(360, 640, 3), resized_shape=(270, 480, 3)\n",
      "attaching frame_no=2712, original_shape=(360, 640, 3), resized_shape=(270, 480, 3)\n",
      "attaching frame_no=2736, original_shape=(360, 640, 3), resized_shape=(270, 480, 3)\n",
      "attaching frame_no=2760, original_shape=(360, 640, 3), resized_shape=(270, 480, 3)\n",
      "attaching frame_no=2784, original_shape=(360, 640, 3), resized_shape=(270, 480, 3)\n",
      "attaching frame_no=2808, original_shape=(360, 640, 3), resized_shape=(270, 480, 3)\n",
      "attaching frame_no=2832, original_shape=(360, 640, 3), resized_shape=(270, 480, 3)\n",
      "attaching frame_no=2856, original_shape=(360, 640, 3), resized_shape=(270, 480, 3)\n",
      "attaching frame_no=2880, original_shape=(360, 640, 3), resized_shape=(270, 480, 3)\n",
      "attaching frame_no=2904, original_shape=(360, 640, 3), resized_shape=(270, 480, 3)\n",
      "attaching frame_no=2928, original_shape=(360, 640, 3), resized_shape=(270, 480, 3)\n",
      "attaching frame_no=2952, original_shape=(360, 640, 3), resized_shape=(270, 480, 3)\n",
      "attaching frame_no=2976, original_shape=(360, 640, 3), resized_shape=(270, 480, 3)\n",
      "attaching frame_no=3000, original_shape=(360, 640, 3), resized_shape=(270, 480, 3)\n",
      "attaching frame_no=3024, original_shape=(360, 640, 3), resized_shape=(270, 480, 3)\n",
      "attaching frame_no=3048, original_shape=(360, 640, 3), resized_shape=(270, 480, 3)\n",
      "attaching frame_no=3072, original_shape=(360, 640, 3), resized_shape=(270, 480, 3)\n",
      "attaching frame_no=3096, original_shape=(360, 640, 3), resized_shape=(270, 480, 3)\n",
      "attaching frame_no=3120, original_shape=(360, 640, 3), resized_shape=(270, 480, 3)\n",
      "attaching frame_no=3144, original_shape=(360, 640, 3), resized_shape=(270, 480, 3)\n",
      "attaching frame_no=3168, original_shape=(360, 640, 3), resized_shape=(270, 480, 3)\n",
      "attaching frame_no=3192, original_shape=(360, 640, 3), resized_shape=(270, 480, 3)\n",
      "attaching frame_no=3216, original_shape=(360, 640, 3), resized_shape=(270, 480, 3)\n",
      "attaching frame_no=3240, original_shape=(360, 640, 3), resized_shape=(270, 480, 3)\n",
      "attaching frame_no=3264, original_shape=(360, 640, 3), resized_shape=(270, 480, 3)\n",
      "attaching frame_no=3288, original_shape=(360, 640, 3), resized_shape=(270, 480, 3)\n",
      "attaching frame_no=3312, original_shape=(360, 640, 3), resized_shape=(270, 480, 3)\n",
      "attaching frame_no=3336, original_shape=(360, 640, 3), resized_shape=(270, 480, 3)\n",
      "attaching frame_no=3360, original_shape=(360, 640, 3), resized_shape=(270, 480, 3)\n",
      "attaching frame_no=3384, original_shape=(360, 640, 3), resized_shape=(270, 480, 3)\n",
      "attaching frame_no=3408, original_shape=(360, 640, 3), resized_shape=(270, 480, 3)\n",
      "attaching frame_no=3432, original_shape=(360, 640, 3), resized_shape=(270, 480, 3)\n",
      "attaching frame_no=3456, original_shape=(360, 640, 3), resized_shape=(270, 480, 3)\n",
      "len(video_content_lst) = 145\n"
     ]
    }
   ],
   "source": [
    "# Extract frames as data URLs\n",
    "video_path = \"data/YT_download/Final_Destination.mp4\"\n",
    "video_content_lst = extract_frames_as_data_urls(\n",
    "    video_path, \n",
    "    interval_sec=1,\n",
    "    limit=600\n",
    ")\n",
    "print(f\"len(video_content_lst) = {len(video_content_lst)}\")"
   ]
  },
  {
   "cell_type": "markdown",
   "id": "dc63d07d-2ef7-43ff-a931-4c9a8ea28a8c",
   "metadata": {},
   "source": [
    "## Break video into sub videos"
   ]
  },
  {
   "cell_type": "code",
   "execution_count": 7,
   "id": "2927dd12-036b-41d1-a0a8-b15c5453e9d4",
   "metadata": {},
   "outputs": [
    {
     "name": "stdout",
     "output_type": "stream",
     "text": [
      "num_chunks = 5, chunk_size = 32\n"
     ]
    }
   ],
   "source": [
    "chunk_size = 32\n",
    "content_chunks = chunk_list(video_content_lst, chunk_size)\n",
    "print(f\"num_chunks = {len(content_chunks)}, chunk_size = {chunk_size}\")"
   ]
  },
  {
   "cell_type": "markdown",
   "id": "93a67ef6-0b20-427a-85e6-f4185982b237",
   "metadata": {},
   "source": [
    "## inference"
   ]
  },
  {
   "cell_type": "code",
   "execution_count": 8,
   "id": "eaac6f37-39d5-4f1b-a922-c25f3fe1656f",
   "metadata": {
    "scrolled": true
   },
   "outputs": [
    {
     "name": "stdout",
     "output_type": "stream",
     "text": [
      "processing chunk 1/5 with 32 frames\n"
     ]
    },
    {
     "data": {
      "text/html": [
       "<pre style=\"white-space:pre;overflow-x:auto;line-height:normal;font-family:Menlo,'DejaVu Sans Mono',consolas,'Courier New',monospace\">        rating: PG13\n",
       "</pre>\n"
      ],
      "text/plain": [
       "        rating: PG13\n"
      ]
     },
     "metadata": {},
     "output_type": "display_data"
    },
    {
     "data": {
      "text/html": [
       "<pre style=\"white-space:pre;overflow-x:auto;line-height:normal;font-family:Menlo,'DejaVu Sans Mono',consolas,'Courier New',monospace\">        overall_rationale: Scenes focus on social drinking at a backyard gathering with numerous bottles shown, \n",
       "mixing of drinks, and group toasts. No violence, sex, nudity, coarse language, or horror evident. Alcohol \n",
       "depictions warrant a PG13 floor under drugs/psychoactive substances.\n",
       "</pre>\n"
      ],
      "text/plain": [
       "        overall_rationale: Scenes focus on social drinking at a backyard gathering with numerous bottles shown, \n",
       "mixing of drinks, and group toasts. No violence, sex, nudity, coarse language, or horror evident. Alcohol \n",
       "depictions warrant a PG13 floor under drugs/psychoactive substances.\n"
      ]
     },
     "metadata": {},
     "output_type": "display_data"
    },
    {
     "name": "stdout",
     "output_type": "stream",
     "text": [
      "processing chunk 2/5 with 32 frames\n"
     ]
    },
    {
     "data": {
      "text/html": [
       "<pre style=\"white-space:pre;overflow-x:auto;line-height:normal;font-family:Menlo,'DejaVu Sans Mono',consolas,'Courier New',monospace\">        rating: PG\n",
       "</pre>\n"
      ],
      "text/plain": [
       "        rating: PG\n"
      ]
     },
     "metadata": {},
     "output_type": "display_data"
    },
    {
     "data": {
      "text/html": [
       "<pre style=\"white-space:pre;overflow-x:auto;line-height:normal;font-family:Menlo,'DejaVu Sans Mono',consolas,'Courier New',monospace\">        overall_rationale: Backyard gathering scenes feature clear shots of a beer bottle and mild moments of \n",
       "suspense <span style=\"font-weight: bold\">(</span>dark room with an unsettling older woman<span style=\"font-weight: bold\">)</span>. No violence, sex, nudity, or strong language evident. Alcohol \n",
       "presence and brief mild threat place it at PG.\n",
       "</pre>\n"
      ],
      "text/plain": [
       "        overall_rationale: Backyard gathering scenes feature clear shots of a beer bottle and mild moments of \n",
       "suspense \u001b[1m(\u001b[0mdark room with an unsettling older woman\u001b[1m)\u001b[0m. No violence, sex, nudity, or strong language evident. Alcohol \n",
       "presence and brief mild threat place it at PG.\n"
      ]
     },
     "metadata": {},
     "output_type": "display_data"
    },
    {
     "name": "stdout",
     "output_type": "stream",
     "text": [
      "processing chunk 3/5 with 32 frames\n"
     ]
    },
    {
     "data": {
      "text/html": [
       "<pre style=\"white-space:pre;overflow-x:auto;line-height:normal;font-family:Menlo,'DejaVu Sans Mono',consolas,'Courier New',monospace\">        rating: PG13\n",
       "</pre>\n"
      ],
      "text/plain": [
       "        rating: PG13\n"
      ]
     },
     "metadata": {},
     "output_type": "display_data"
    },
    {
     "data": {
      "text/html": [
       "<pre style=\"white-space:pre;overflow-x:auto;line-height:normal;font-family:Menlo,'DejaVu Sans Mono',consolas,'Courier New',monospace\">        overall_rationale: Sample shows disaster/peril scenes with fire and structural collapse, a funeral \n",
       "sequence, and a few intense screams. No gore, sex, nudity, drug use, or strong language evident. Moderate threat \n",
       "and distress place it at PG13.\n",
       "</pre>\n"
      ],
      "text/plain": [
       "        overall_rationale: Sample shows disaster/peril scenes with fire and structural collapse, a funeral \n",
       "sequence, and a few intense screams. No gore, sex, nudity, drug use, or strong language evident. Moderate threat \n",
       "and distress place it at PG13.\n"
      ]
     },
     "metadata": {},
     "output_type": "display_data"
    },
    {
     "name": "stdout",
     "output_type": "stream",
     "text": [
      "processing chunk 4/5 with 32 frames\n"
     ]
    },
    {
     "data": {
      "text/html": [
       "<pre style=\"white-space:pre;overflow-x:auto;line-height:normal;font-family:Menlo,'DejaVu Sans Mono',consolas,'Courier New',monospace\">        rating: PG13\n",
       "</pre>\n"
      ],
      "text/plain": [
       "        rating: PG13\n"
      ]
     },
     "metadata": {},
     "output_type": "display_data"
    },
    {
     "data": {
      "text/html": [
       "<pre style=\"white-space:pre;overflow-x:auto;line-height:normal;font-family:Menlo,'DejaVu Sans Mono',consolas,'Courier New',monospace\">        overall_rationale: Sample frames suggest a thriller with perilous set‑pieces <span style=\"font-weight: bold\">(</span>explosions, collapses, glass \n",
       "breaking, electrical hazards<span style=\"font-weight: bold\">)</span> and a dark, ominous tone <span style=\"font-weight: bold\">(</span>“birth of death”<span style=\"font-weight: bold\">)</span>. Violence appears non-gory and \n",
       "non-prolonged, with moderate threat and no sex, nudity, drugs, or coarse language observed.\n",
       "</pre>\n"
      ],
      "text/plain": [
       "        overall_rationale: Sample frames suggest a thriller with perilous set‑pieces \u001b[1m(\u001b[0mexplosions, collapses, glass \n",
       "breaking, electrical hazards\u001b[1m)\u001b[0m and a dark, ominous tone \u001b[1m(\u001b[0m“birth of death”\u001b[1m)\u001b[0m. Violence appears non-gory and \n",
       "non-prolonged, with moderate threat and no sex, nudity, drugs, or coarse language observed.\n"
      ]
     },
     "metadata": {},
     "output_type": "display_data"
    },
    {
     "name": "stdout",
     "output_type": "stream",
     "text": [
      "processing chunk 5/5 with 17 frames\n"
     ]
    },
    {
     "data": {
      "text/html": [
       "<pre style=\"white-space:pre;overflow-x:auto;line-height:normal;font-family:Menlo,'DejaVu Sans Mono',consolas,'Courier New',monospace\">        rating: PG13\n",
       "</pre>\n"
      ],
      "text/plain": [
       "        rating: PG13\n"
      ]
     },
     "metadata": {},
     "output_type": "display_data"
    },
    {
     "data": {
      "text/html": [
       "<pre style=\"white-space:pre;overflow-x:auto;line-height:normal;font-family:Menlo,'DejaVu Sans Mono',consolas,'Courier New',monospace\">        overall_rationale: Sample frames suggest a horror film with ominous tone and blood‑themed visuals <span style=\"font-weight: bold\">(</span>bloody \n",
       "handprints, red title cards<span style=\"font-weight: bold\">)</span> and brief peril, but no explicit gore, sex, nudity, coarse language or drug use shown.\n",
       "The strongest element is moderate horror imagery.\n",
       "</pre>\n"
      ],
      "text/plain": [
       "        overall_rationale: Sample frames suggest a horror film with ominous tone and blood‑themed visuals \u001b[1m(\u001b[0mbloody \n",
       "handprints, red title cards\u001b[1m)\u001b[0m and brief peril, but no explicit gore, sex, nudity, coarse language or drug use shown.\n",
       "The strongest element is moderate horror imagery.\n"
      ]
     },
     "metadata": {},
     "output_type": "display_data"
    },
    {
     "name": "stdout",
     "output_type": "stream",
     "text": [
      "done\n"
     ]
    }
   ],
   "source": [
    "output_json_lst = []\n",
    "for idx, content_chunk in enumerate(content_chunks):\n",
    "    print(f\"processing chunk {idx + 1}/{len(content_chunks)} with {len(content_chunk)} frames\")\n",
    "    input_messages = make_message(content_chunk)\n",
    "    response = inference_text(client, input_messages)\n",
    "\n",
    "    # parse each response as JSON\n",
    "    parsed = json.loads(response.output_text)\n",
    "\n",
    "    # verbose current output\n",
    "    rating = parsed['rating']\n",
    "    rich_print(f\"\\trating: {rating}\")\n",
    "    overall_rationale = parsed['overall_rationale']\n",
    "    rich_print(f\"\\toverall_rationale: {overall_rationale}\")\n",
    "    \n",
    "    output_json_lst.append(parsed)\n",
    "\n",
    "print(f\"done\")"
   ]
  },
  {
   "cell_type": "markdown",
   "id": "76cc5c97-5caf-4517-9f43-a090cf43ce83",
   "metadata": {},
   "source": [
    "## verbose"
   ]
  },
  {
   "cell_type": "code",
   "execution_count": 22,
   "id": "49ace7e9-a40f-456f-a833-2a102e8d32b9",
   "metadata": {},
   "outputs": [],
   "source": [
    "df = pd.DataFrame({\n",
    "    'rating': [i['rating'] for i in output_json_lst],\n",
    "    'overall_rationale': [i['overall_rationale'] for i in output_json_lst],\n",
    "})\n",
    "\n",
    "df['overall_rationale'] = df['overall_rationale'].str.wrap(80)"
   ]
  },
  {
   "cell_type": "code",
   "execution_count": 23,
   "id": "f75a6a47-434b-426c-a5b4-97b6626a2543",
   "metadata": {
    "scrolled": true
   },
   "outputs": [
    {
     "data": {
      "text/html": [
       "<table border=\"1\" class=\"dataframe\">\n",
       "  <thead>\n",
       "    <tr style=\"text-align: right;\">\n",
       "      <th></th>\n",
       "      <th>rating</th>\n",
       "      <th>overall_rationale</th>\n",
       "    </tr>\n",
       "  </thead>\n",
       "  <tbody>\n",
       "    <tr>\n",
       "      <th>0</th>\n",
       "      <td>PG13</td>\n",
       "      <td>Scenes focus on social drinking at a backyard gathering with numerous bottles<br>shown, mixing of drinks, and group toasts. No violence, sex, nudity, coarse<br>language, or horror evident. Alcohol depictions warrant a PG13 floor under<br>drugs/psychoactive substances.</td>\n",
       "    </tr>\n",
       "    <tr>\n",
       "      <th>1</th>\n",
       "      <td>PG</td>\n",
       "      <td>Backyard gathering scenes feature clear shots of a beer bottle and mild moments<br>of suspense (dark room with an unsettling older woman). No violence, sex,<br>nudity, or strong language evident. Alcohol presence and brief mild threat place<br>it at PG.</td>\n",
       "    </tr>\n",
       "    <tr>\n",
       "      <th>2</th>\n",
       "      <td>PG13</td>\n",
       "      <td>Sample shows disaster/peril scenes with fire and structural collapse, a funeral<br>sequence, and a few intense screams. No gore, sex, nudity, drug use, or strong<br>language evident. Moderate threat and distress place it at PG13.</td>\n",
       "    </tr>\n",
       "    <tr>\n",
       "      <th>3</th>\n",
       "      <td>PG13</td>\n",
       "      <td>Sample frames suggest a thriller with perilous set‑pieces (explosions,<br>collapses, glass breaking, electrical hazards) and a dark, ominous tone (“birth<br>of death”). Violence appears non-gory and non-prolonged, with moderate threat<br>and no sex, nudity, drugs, or coarse language observed.</td>\n",
       "    </tr>\n",
       "    <tr>\n",
       "      <th>4</th>\n",
       "      <td>PG13</td>\n",
       "      <td>Sample frames suggest a horror film with ominous tone and blood‑themed visuals<br>(bloody handprints, red title cards) and brief peril, but no explicit gore, sex,<br>nudity, coarse language or drug use shown. The strongest element is moderate<br>horror imagery.</td>\n",
       "    </tr>\n",
       "  </tbody>\n",
       "</table>"
      ],
      "text/plain": [
       "<IPython.core.display.HTML object>"
      ]
     },
     "metadata": {},
     "output_type": "display_data"
    }
   ],
   "source": [
    "display(HTML(df.to_html().replace(\"\\\\n\", \"<br>\")))"
   ]
  },
  {
   "cell_type": "markdown",
   "id": "bf2bbed0-3fd2-4486-bf5e-b74f33cf168a",
   "metadata": {},
   "source": [
    "# Final_Destination_All_Deaths"
   ]
  },
  {
   "cell_type": "code",
   "execution_count": 9,
   "id": "2835668b-1ca7-409f-9314-7e4f585c0d6e",
   "metadata": {
    "collapsed": true,
    "jupyter": {
     "outputs_hidden": true
    },
    "scrolled": true
   },
   "outputs": [
    {
     "name": "stdout",
     "output_type": "stream",
     "text": [
      "attaching frame_no=0, original_shape=(360, 640, 3), resized_shape=(270, 480, 3)\n",
      "attaching frame_no=30, original_shape=(360, 640, 3), resized_shape=(270, 480, 3)\n",
      "attaching frame_no=60, original_shape=(360, 640, 3), resized_shape=(270, 480, 3)\n",
      "attaching frame_no=90, original_shape=(360, 640, 3), resized_shape=(270, 480, 3)\n",
      "attaching frame_no=120, original_shape=(360, 640, 3), resized_shape=(270, 480, 3)\n",
      "attaching frame_no=150, original_shape=(360, 640, 3), resized_shape=(270, 480, 3)\n",
      "attaching frame_no=180, original_shape=(360, 640, 3), resized_shape=(270, 480, 3)\n",
      "attaching frame_no=210, original_shape=(360, 640, 3), resized_shape=(270, 480, 3)\n",
      "attaching frame_no=240, original_shape=(360, 640, 3), resized_shape=(270, 480, 3)\n",
      "attaching frame_no=270, original_shape=(360, 640, 3), resized_shape=(270, 480, 3)\n",
      "attaching frame_no=300, original_shape=(360, 640, 3), resized_shape=(270, 480, 3)\n",
      "attaching frame_no=330, original_shape=(360, 640, 3), resized_shape=(270, 480, 3)\n",
      "attaching frame_no=360, original_shape=(360, 640, 3), resized_shape=(270, 480, 3)\n",
      "attaching frame_no=390, original_shape=(360, 640, 3), resized_shape=(270, 480, 3)\n",
      "attaching frame_no=420, original_shape=(360, 640, 3), resized_shape=(270, 480, 3)\n",
      "attaching frame_no=450, original_shape=(360, 640, 3), resized_shape=(270, 480, 3)\n",
      "attaching frame_no=480, original_shape=(360, 640, 3), resized_shape=(270, 480, 3)\n",
      "attaching frame_no=510, original_shape=(360, 640, 3), resized_shape=(270, 480, 3)\n",
      "attaching frame_no=540, original_shape=(360, 640, 3), resized_shape=(270, 480, 3)\n",
      "attaching frame_no=570, original_shape=(360, 640, 3), resized_shape=(270, 480, 3)\n",
      "attaching frame_no=600, original_shape=(360, 640, 3), resized_shape=(270, 480, 3)\n",
      "attaching frame_no=630, original_shape=(360, 640, 3), resized_shape=(270, 480, 3)\n",
      "attaching frame_no=660, original_shape=(360, 640, 3), resized_shape=(270, 480, 3)\n",
      "attaching frame_no=690, original_shape=(360, 640, 3), resized_shape=(270, 480, 3)\n",
      "attaching frame_no=720, original_shape=(360, 640, 3), resized_shape=(270, 480, 3)\n",
      "attaching frame_no=750, original_shape=(360, 640, 3), resized_shape=(270, 480, 3)\n",
      "attaching frame_no=780, original_shape=(360, 640, 3), resized_shape=(270, 480, 3)\n",
      "attaching frame_no=810, original_shape=(360, 640, 3), resized_shape=(270, 480, 3)\n",
      "attaching frame_no=840, original_shape=(360, 640, 3), resized_shape=(270, 480, 3)\n",
      "attaching frame_no=870, original_shape=(360, 640, 3), resized_shape=(270, 480, 3)\n",
      "attaching frame_no=900, original_shape=(360, 640, 3), resized_shape=(270, 480, 3)\n",
      "attaching frame_no=930, original_shape=(360, 640, 3), resized_shape=(270, 480, 3)\n",
      "attaching frame_no=960, original_shape=(360, 640, 3), resized_shape=(270, 480, 3)\n",
      "attaching frame_no=990, original_shape=(360, 640, 3), resized_shape=(270, 480, 3)\n",
      "attaching frame_no=1020, original_shape=(360, 640, 3), resized_shape=(270, 480, 3)\n",
      "attaching frame_no=1050, original_shape=(360, 640, 3), resized_shape=(270, 480, 3)\n",
      "attaching frame_no=1080, original_shape=(360, 640, 3), resized_shape=(270, 480, 3)\n",
      "attaching frame_no=1110, original_shape=(360, 640, 3), resized_shape=(270, 480, 3)\n",
      "attaching frame_no=1140, original_shape=(360, 640, 3), resized_shape=(270, 480, 3)\n",
      "attaching frame_no=1170, original_shape=(360, 640, 3), resized_shape=(270, 480, 3)\n",
      "attaching frame_no=1200, original_shape=(360, 640, 3), resized_shape=(270, 480, 3)\n",
      "attaching frame_no=1230, original_shape=(360, 640, 3), resized_shape=(270, 480, 3)\n",
      "attaching frame_no=1260, original_shape=(360, 640, 3), resized_shape=(270, 480, 3)\n",
      "attaching frame_no=1290, original_shape=(360, 640, 3), resized_shape=(270, 480, 3)\n",
      "attaching frame_no=1320, original_shape=(360, 640, 3), resized_shape=(270, 480, 3)\n",
      "attaching frame_no=1350, original_shape=(360, 640, 3), resized_shape=(270, 480, 3)\n",
      "attaching frame_no=1380, original_shape=(360, 640, 3), resized_shape=(270, 480, 3)\n",
      "attaching frame_no=1410, original_shape=(360, 640, 3), resized_shape=(270, 480, 3)\n",
      "attaching frame_no=1440, original_shape=(360, 640, 3), resized_shape=(270, 480, 3)\n",
      "attaching frame_no=1470, original_shape=(360, 640, 3), resized_shape=(270, 480, 3)\n",
      "attaching frame_no=1500, original_shape=(360, 640, 3), resized_shape=(270, 480, 3)\n",
      "attaching frame_no=1530, original_shape=(360, 640, 3), resized_shape=(270, 480, 3)\n",
      "attaching frame_no=1560, original_shape=(360, 640, 3), resized_shape=(270, 480, 3)\n",
      "attaching frame_no=1590, original_shape=(360, 640, 3), resized_shape=(270, 480, 3)\n",
      "attaching frame_no=1620, original_shape=(360, 640, 3), resized_shape=(270, 480, 3)\n",
      "attaching frame_no=1650, original_shape=(360, 640, 3), resized_shape=(270, 480, 3)\n",
      "attaching frame_no=1680, original_shape=(360, 640, 3), resized_shape=(270, 480, 3)\n",
      "attaching frame_no=1710, original_shape=(360, 640, 3), resized_shape=(270, 480, 3)\n",
      "attaching frame_no=1740, original_shape=(360, 640, 3), resized_shape=(270, 480, 3)\n",
      "attaching frame_no=1770, original_shape=(360, 640, 3), resized_shape=(270, 480, 3)\n",
      "attaching frame_no=1800, original_shape=(360, 640, 3), resized_shape=(270, 480, 3)\n",
      "attaching frame_no=1830, original_shape=(360, 640, 3), resized_shape=(270, 480, 3)\n",
      "attaching frame_no=1860, original_shape=(360, 640, 3), resized_shape=(270, 480, 3)\n",
      "attaching frame_no=1890, original_shape=(360, 640, 3), resized_shape=(270, 480, 3)\n",
      "attaching frame_no=1920, original_shape=(360, 640, 3), resized_shape=(270, 480, 3)\n",
      "attaching frame_no=1950, original_shape=(360, 640, 3), resized_shape=(270, 480, 3)\n",
      "attaching frame_no=1980, original_shape=(360, 640, 3), resized_shape=(270, 480, 3)\n",
      "attaching frame_no=2010, original_shape=(360, 640, 3), resized_shape=(270, 480, 3)\n",
      "attaching frame_no=2040, original_shape=(360, 640, 3), resized_shape=(270, 480, 3)\n",
      "attaching frame_no=2070, original_shape=(360, 640, 3), resized_shape=(270, 480, 3)\n",
      "attaching frame_no=2100, original_shape=(360, 640, 3), resized_shape=(270, 480, 3)\n",
      "attaching frame_no=2130, original_shape=(360, 640, 3), resized_shape=(270, 480, 3)\n",
      "attaching frame_no=2160, original_shape=(360, 640, 3), resized_shape=(270, 480, 3)\n",
      "attaching frame_no=2190, original_shape=(360, 640, 3), resized_shape=(270, 480, 3)\n",
      "attaching frame_no=2220, original_shape=(360, 640, 3), resized_shape=(270, 480, 3)\n",
      "attaching frame_no=2250, original_shape=(360, 640, 3), resized_shape=(270, 480, 3)\n",
      "attaching frame_no=2280, original_shape=(360, 640, 3), resized_shape=(270, 480, 3)\n",
      "attaching frame_no=2310, original_shape=(360, 640, 3), resized_shape=(270, 480, 3)\n",
      "attaching frame_no=2340, original_shape=(360, 640, 3), resized_shape=(270, 480, 3)\n",
      "attaching frame_no=2370, original_shape=(360, 640, 3), resized_shape=(270, 480, 3)\n",
      "attaching frame_no=2400, original_shape=(360, 640, 3), resized_shape=(270, 480, 3)\n",
      "attaching frame_no=2430, original_shape=(360, 640, 3), resized_shape=(270, 480, 3)\n",
      "attaching frame_no=2460, original_shape=(360, 640, 3), resized_shape=(270, 480, 3)\n",
      "attaching frame_no=2490, original_shape=(360, 640, 3), resized_shape=(270, 480, 3)\n",
      "attaching frame_no=2520, original_shape=(360, 640, 3), resized_shape=(270, 480, 3)\n",
      "attaching frame_no=2550, original_shape=(360, 640, 3), resized_shape=(270, 480, 3)\n",
      "attaching frame_no=2580, original_shape=(360, 640, 3), resized_shape=(270, 480, 3)\n",
      "attaching frame_no=2610, original_shape=(360, 640, 3), resized_shape=(270, 480, 3)\n",
      "attaching frame_no=2640, original_shape=(360, 640, 3), resized_shape=(270, 480, 3)\n",
      "attaching frame_no=2670, original_shape=(360, 640, 3), resized_shape=(270, 480, 3)\n",
      "attaching frame_no=2700, original_shape=(360, 640, 3), resized_shape=(270, 480, 3)\n",
      "attaching frame_no=2730, original_shape=(360, 640, 3), resized_shape=(270, 480, 3)\n",
      "attaching frame_no=2760, original_shape=(360, 640, 3), resized_shape=(270, 480, 3)\n",
      "attaching frame_no=2790, original_shape=(360, 640, 3), resized_shape=(270, 480, 3)\n",
      "attaching frame_no=2820, original_shape=(360, 640, 3), resized_shape=(270, 480, 3)\n",
      "attaching frame_no=2850, original_shape=(360, 640, 3), resized_shape=(270, 480, 3)\n",
      "attaching frame_no=2880, original_shape=(360, 640, 3), resized_shape=(270, 480, 3)\n",
      "attaching frame_no=2910, original_shape=(360, 640, 3), resized_shape=(270, 480, 3)\n",
      "attaching frame_no=2940, original_shape=(360, 640, 3), resized_shape=(270, 480, 3)\n",
      "attaching frame_no=2970, original_shape=(360, 640, 3), resized_shape=(270, 480, 3)\n",
      "attaching frame_no=3000, original_shape=(360, 640, 3), resized_shape=(270, 480, 3)\n",
      "attaching frame_no=3030, original_shape=(360, 640, 3), resized_shape=(270, 480, 3)\n",
      "attaching frame_no=3060, original_shape=(360, 640, 3), resized_shape=(270, 480, 3)\n",
      "attaching frame_no=3090, original_shape=(360, 640, 3), resized_shape=(270, 480, 3)\n",
      "attaching frame_no=3120, original_shape=(360, 640, 3), resized_shape=(270, 480, 3)\n",
      "attaching frame_no=3150, original_shape=(360, 640, 3), resized_shape=(270, 480, 3)\n",
      "attaching frame_no=3180, original_shape=(360, 640, 3), resized_shape=(270, 480, 3)\n",
      "attaching frame_no=3210, original_shape=(360, 640, 3), resized_shape=(270, 480, 3)\n",
      "attaching frame_no=3240, original_shape=(360, 640, 3), resized_shape=(270, 480, 3)\n",
      "attaching frame_no=3270, original_shape=(360, 640, 3), resized_shape=(270, 480, 3)\n",
      "attaching frame_no=3300, original_shape=(360, 640, 3), resized_shape=(270, 480, 3)\n",
      "attaching frame_no=3330, original_shape=(360, 640, 3), resized_shape=(270, 480, 3)\n",
      "attaching frame_no=3360, original_shape=(360, 640, 3), resized_shape=(270, 480, 3)\n",
      "attaching frame_no=3390, original_shape=(360, 640, 3), resized_shape=(270, 480, 3)\n",
      "attaching frame_no=3420, original_shape=(360, 640, 3), resized_shape=(270, 480, 3)\n",
      "attaching frame_no=3450, original_shape=(360, 640, 3), resized_shape=(270, 480, 3)\n",
      "attaching frame_no=3480, original_shape=(360, 640, 3), resized_shape=(270, 480, 3)\n",
      "attaching frame_no=3510, original_shape=(360, 640, 3), resized_shape=(270, 480, 3)\n",
      "attaching frame_no=3540, original_shape=(360, 640, 3), resized_shape=(270, 480, 3)\n",
      "attaching frame_no=3570, original_shape=(360, 640, 3), resized_shape=(270, 480, 3)\n",
      "attaching frame_no=3600, original_shape=(360, 640, 3), resized_shape=(270, 480, 3)\n",
      "attaching frame_no=3630, original_shape=(360, 640, 3), resized_shape=(270, 480, 3)\n",
      "attaching frame_no=3660, original_shape=(360, 640, 3), resized_shape=(270, 480, 3)\n",
      "attaching frame_no=3690, original_shape=(360, 640, 3), resized_shape=(270, 480, 3)\n",
      "attaching frame_no=3720, original_shape=(360, 640, 3), resized_shape=(270, 480, 3)\n",
      "attaching frame_no=3750, original_shape=(360, 640, 3), resized_shape=(270, 480, 3)\n",
      "attaching frame_no=3780, original_shape=(360, 640, 3), resized_shape=(270, 480, 3)\n",
      "attaching frame_no=3810, original_shape=(360, 640, 3), resized_shape=(270, 480, 3)\n",
      "attaching frame_no=3840, original_shape=(360, 640, 3), resized_shape=(270, 480, 3)\n",
      "attaching frame_no=3870, original_shape=(360, 640, 3), resized_shape=(270, 480, 3)\n",
      "attaching frame_no=3900, original_shape=(360, 640, 3), resized_shape=(270, 480, 3)\n",
      "attaching frame_no=3930, original_shape=(360, 640, 3), resized_shape=(270, 480, 3)\n",
      "attaching frame_no=3960, original_shape=(360, 640, 3), resized_shape=(270, 480, 3)\n",
      "attaching frame_no=3990, original_shape=(360, 640, 3), resized_shape=(270, 480, 3)\n",
      "attaching frame_no=4020, original_shape=(360, 640, 3), resized_shape=(270, 480, 3)\n",
      "attaching frame_no=4050, original_shape=(360, 640, 3), resized_shape=(270, 480, 3)\n",
      "attaching frame_no=4080, original_shape=(360, 640, 3), resized_shape=(270, 480, 3)\n",
      "attaching frame_no=4110, original_shape=(360, 640, 3), resized_shape=(270, 480, 3)\n",
      "attaching frame_no=4140, original_shape=(360, 640, 3), resized_shape=(270, 480, 3)\n",
      "attaching frame_no=4170, original_shape=(360, 640, 3), resized_shape=(270, 480, 3)\n",
      "attaching frame_no=4200, original_shape=(360, 640, 3), resized_shape=(270, 480, 3)\n",
      "attaching frame_no=4230, original_shape=(360, 640, 3), resized_shape=(270, 480, 3)\n",
      "attaching frame_no=4260, original_shape=(360, 640, 3), resized_shape=(270, 480, 3)\n",
      "attaching frame_no=4290, original_shape=(360, 640, 3), resized_shape=(270, 480, 3)\n",
      "attaching frame_no=4320, original_shape=(360, 640, 3), resized_shape=(270, 480, 3)\n",
      "attaching frame_no=4350, original_shape=(360, 640, 3), resized_shape=(270, 480, 3)\n",
      "attaching frame_no=4380, original_shape=(360, 640, 3), resized_shape=(270, 480, 3)\n",
      "attaching frame_no=4410, original_shape=(360, 640, 3), resized_shape=(270, 480, 3)\n",
      "attaching frame_no=4440, original_shape=(360, 640, 3), resized_shape=(270, 480, 3)\n",
      "attaching frame_no=4470, original_shape=(360, 640, 3), resized_shape=(270, 480, 3)\n",
      "attaching frame_no=4500, original_shape=(360, 640, 3), resized_shape=(270, 480, 3)\n",
      "attaching frame_no=4530, original_shape=(360, 640, 3), resized_shape=(270, 480, 3)\n",
      "attaching frame_no=4560, original_shape=(360, 640, 3), resized_shape=(270, 480, 3)\n",
      "attaching frame_no=4590, original_shape=(360, 640, 3), resized_shape=(270, 480, 3)\n",
      "attaching frame_no=4620, original_shape=(360, 640, 3), resized_shape=(270, 480, 3)\n",
      "attaching frame_no=4650, original_shape=(360, 640, 3), resized_shape=(270, 480, 3)\n",
      "attaching frame_no=4680, original_shape=(360, 640, 3), resized_shape=(270, 480, 3)\n",
      "attaching frame_no=4710, original_shape=(360, 640, 3), resized_shape=(270, 480, 3)\n",
      "attaching frame_no=4740, original_shape=(360, 640, 3), resized_shape=(270, 480, 3)\n",
      "attaching frame_no=4770, original_shape=(360, 640, 3), resized_shape=(270, 480, 3)\n",
      "ignoring frame_no=4800\n",
      "ignoring frame_no=4830\n",
      "ignoring frame_no=4860\n",
      "ignoring frame_no=4890\n",
      "ignoring frame_no=4920\n",
      "ignoring frame_no=4950\n",
      "ignoring frame_no=4980\n",
      "ignoring frame_no=5010\n",
      "ignoring frame_no=5040\n",
      "ignoring frame_no=5070\n",
      "ignoring frame_no=5100\n",
      "ignoring frame_no=5130\n",
      "ignoring frame_no=5160\n",
      "ignoring frame_no=5190\n",
      "ignoring frame_no=5220\n",
      "ignoring frame_no=5250\n",
      "ignoring frame_no=5280\n",
      "ignoring frame_no=5310\n",
      "ignoring frame_no=5340\n",
      "ignoring frame_no=5370\n",
      "ignoring frame_no=5400\n",
      "ignoring frame_no=5430\n",
      "ignoring frame_no=5460\n",
      "ignoring frame_no=5490\n",
      "ignoring frame_no=5520\n",
      "ignoring frame_no=5550\n",
      "ignoring frame_no=5580\n",
      "ignoring frame_no=5610\n",
      "ignoring frame_no=5640\n",
      "ignoring frame_no=5670\n",
      "ignoring frame_no=5700\n",
      "ignoring frame_no=5730\n",
      "ignoring frame_no=5760\n",
      "ignoring frame_no=5790\n",
      "ignoring frame_no=5820\n",
      "ignoring frame_no=5850\n",
      "ignoring frame_no=5880\n",
      "ignoring frame_no=5910\n",
      "ignoring frame_no=5940\n",
      "ignoring frame_no=5970\n",
      "ignoring frame_no=6000\n",
      "ignoring frame_no=6030\n",
      "ignoring frame_no=6060\n",
      "ignoring frame_no=6090\n",
      "ignoring frame_no=6120\n",
      "ignoring frame_no=6150\n",
      "ignoring frame_no=6180\n",
      "ignoring frame_no=6210\n",
      "ignoring frame_no=6240\n",
      "ignoring frame_no=6270\n",
      "ignoring frame_no=6300\n",
      "ignoring frame_no=6330\n",
      "ignoring frame_no=6360\n",
      "ignoring frame_no=6390\n",
      "ignoring frame_no=6420\n",
      "ignoring frame_no=6450\n",
      "ignoring frame_no=6480\n",
      "ignoring frame_no=6510\n",
      "ignoring frame_no=6540\n",
      "ignoring frame_no=6570\n",
      "ignoring frame_no=6600\n",
      "ignoring frame_no=6630\n",
      "ignoring frame_no=6660\n",
      "ignoring frame_no=6690\n",
      "ignoring frame_no=6720\n",
      "ignoring frame_no=6750\n",
      "ignoring frame_no=6780\n",
      "ignoring frame_no=6810\n",
      "ignoring frame_no=6840\n",
      "ignoring frame_no=6870\n",
      "ignoring frame_no=6900\n",
      "ignoring frame_no=6930\n",
      "ignoring frame_no=6960\n",
      "ignoring frame_no=6990\n",
      "ignoring frame_no=7020\n",
      "ignoring frame_no=7050\n",
      "ignoring frame_no=7080\n",
      "ignoring frame_no=7110\n",
      "ignoring frame_no=7140\n",
      "ignoring frame_no=7170\n",
      "ignoring frame_no=7200\n",
      "ignoring frame_no=7230\n",
      "ignoring frame_no=7260\n",
      "ignoring frame_no=7290\n",
      "ignoring frame_no=7320\n",
      "ignoring frame_no=7350\n",
      "ignoring frame_no=7380\n",
      "ignoring frame_no=7410\n",
      "ignoring frame_no=7440\n",
      "ignoring frame_no=7470\n",
      "ignoring frame_no=7500\n",
      "ignoring frame_no=7530\n",
      "ignoring frame_no=7560\n",
      "ignoring frame_no=7590\n",
      "ignoring frame_no=7620\n",
      "ignoring frame_no=7650\n",
      "ignoring frame_no=7680\n",
      "ignoring frame_no=7710\n",
      "ignoring frame_no=7740\n",
      "ignoring frame_no=7770\n",
      "ignoring frame_no=7800\n",
      "ignoring frame_no=7830\n",
      "ignoring frame_no=7860\n",
      "ignoring frame_no=7890\n",
      "ignoring frame_no=7920\n",
      "ignoring frame_no=7950\n",
      "ignoring frame_no=7980\n",
      "ignoring frame_no=8010\n",
      "ignoring frame_no=8040\n",
      "ignoring frame_no=8070\n",
      "ignoring frame_no=8100\n",
      "ignoring frame_no=8130\n",
      "ignoring frame_no=8160\n",
      "ignoring frame_no=8190\n",
      "ignoring frame_no=8220\n",
      "ignoring frame_no=8250\n",
      "ignoring frame_no=8280\n",
      "ignoring frame_no=8310\n",
      "ignoring frame_no=8340\n",
      "ignoring frame_no=8370\n",
      "ignoring frame_no=8400\n",
      "ignoring frame_no=8430\n",
      "ignoring frame_no=8460\n",
      "ignoring frame_no=8490\n",
      "ignoring frame_no=8520\n",
      "ignoring frame_no=8550\n",
      "ignoring frame_no=8580\n",
      "ignoring frame_no=8610\n",
      "ignoring frame_no=8640\n",
      "ignoring frame_no=8670\n",
      "ignoring frame_no=8700\n",
      "ignoring frame_no=8730\n",
      "ignoring frame_no=8760\n",
      "ignoring frame_no=8790\n",
      "ignoring frame_no=8820\n",
      "ignoring frame_no=8850\n",
      "ignoring frame_no=8880\n",
      "ignoring frame_no=8910\n",
      "ignoring frame_no=8940\n",
      "ignoring frame_no=8970\n",
      "ignoring frame_no=9000\n",
      "ignoring frame_no=9030\n",
      "ignoring frame_no=9060\n",
      "ignoring frame_no=9090\n",
      "ignoring frame_no=9120\n",
      "ignoring frame_no=9150\n",
      "ignoring frame_no=9180\n",
      "ignoring frame_no=9210\n",
      "ignoring frame_no=9240\n",
      "ignoring frame_no=9270\n",
      "ignoring frame_no=9300\n",
      "ignoring frame_no=9330\n",
      "ignoring frame_no=9360\n",
      "ignoring frame_no=9390\n",
      "ignoring frame_no=9420\n",
      "ignoring frame_no=9450\n",
      "ignoring frame_no=9480\n",
      "ignoring frame_no=9510\n",
      "ignoring frame_no=9540\n",
      "ignoring frame_no=9570\n",
      "ignoring frame_no=9600\n",
      "ignoring frame_no=9630\n",
      "ignoring frame_no=9660\n",
      "ignoring frame_no=9690\n",
      "ignoring frame_no=9720\n",
      "ignoring frame_no=9750\n",
      "ignoring frame_no=9780\n",
      "ignoring frame_no=9810\n",
      "ignoring frame_no=9840\n",
      "ignoring frame_no=9870\n",
      "ignoring frame_no=9900\n",
      "ignoring frame_no=9930\n",
      "ignoring frame_no=9960\n",
      "ignoring frame_no=9990\n",
      "ignoring frame_no=10020\n",
      "ignoring frame_no=10050\n",
      "ignoring frame_no=10080\n",
      "ignoring frame_no=10110\n",
      "ignoring frame_no=10140\n",
      "ignoring frame_no=10170\n",
      "ignoring frame_no=10200\n",
      "ignoring frame_no=10230\n",
      "ignoring frame_no=10260\n",
      "ignoring frame_no=10290\n",
      "ignoring frame_no=10320\n",
      "ignoring frame_no=10350\n",
      "ignoring frame_no=10380\n",
      "ignoring frame_no=10410\n",
      "ignoring frame_no=10440\n",
      "ignoring frame_no=10470\n",
      "ignoring frame_no=10500\n",
      "ignoring frame_no=10530\n",
      "ignoring frame_no=10560\n",
      "ignoring frame_no=10590\n",
      "ignoring frame_no=10620\n",
      "ignoring frame_no=10650\n",
      "ignoring frame_no=10680\n",
      "ignoring frame_no=10710\n",
      "ignoring frame_no=10740\n",
      "ignoring frame_no=10770\n",
      "ignoring frame_no=10800\n",
      "ignoring frame_no=10830\n",
      "ignoring frame_no=10860\n",
      "ignoring frame_no=10890\n",
      "ignoring frame_no=10920\n",
      "ignoring frame_no=10950\n",
      "ignoring frame_no=10980\n",
      "ignoring frame_no=11010\n",
      "ignoring frame_no=11040\n",
      "ignoring frame_no=11070\n",
      "ignoring frame_no=11100\n",
      "ignoring frame_no=11130\n",
      "ignoring frame_no=11160\n",
      "ignoring frame_no=11190\n",
      "ignoring frame_no=11220\n",
      "ignoring frame_no=11250\n",
      "ignoring frame_no=11280\n",
      "ignoring frame_no=11310\n",
      "ignoring frame_no=11340\n",
      "ignoring frame_no=11370\n",
      "ignoring frame_no=11400\n",
      "ignoring frame_no=11430\n",
      "ignoring frame_no=11460\n",
      "ignoring frame_no=11490\n",
      "ignoring frame_no=11520\n",
      "ignoring frame_no=11550\n",
      "ignoring frame_no=11580\n",
      "ignoring frame_no=11610\n",
      "ignoring frame_no=11640\n",
      "ignoring frame_no=11670\n",
      "ignoring frame_no=11700\n",
      "ignoring frame_no=11730\n",
      "ignoring frame_no=11760\n",
      "ignoring frame_no=11790\n",
      "ignoring frame_no=11820\n",
      "ignoring frame_no=11850\n",
      "ignoring frame_no=11880\n",
      "ignoring frame_no=11910\n",
      "ignoring frame_no=11940\n",
      "ignoring frame_no=11970\n",
      "ignoring frame_no=12000\n",
      "ignoring frame_no=12030\n",
      "ignoring frame_no=12060\n",
      "ignoring frame_no=12090\n",
      "ignoring frame_no=12120\n",
      "ignoring frame_no=12150\n",
      "ignoring frame_no=12180\n",
      "ignoring frame_no=12210\n",
      "ignoring frame_no=12240\n",
      "ignoring frame_no=12270\n",
      "ignoring frame_no=12300\n",
      "ignoring frame_no=12330\n",
      "ignoring frame_no=12360\n",
      "ignoring frame_no=12390\n",
      "ignoring frame_no=12420\n",
      "ignoring frame_no=12450\n",
      "ignoring frame_no=12480\n",
      "ignoring frame_no=12510\n",
      "ignoring frame_no=12540\n",
      "ignoring frame_no=12570\n",
      "ignoring frame_no=12600\n",
      "ignoring frame_no=12630\n",
      "ignoring frame_no=12660\n",
      "ignoring frame_no=12690\n",
      "ignoring frame_no=12720\n",
      "ignoring frame_no=12750\n",
      "ignoring frame_no=12780\n",
      "ignoring frame_no=12810\n",
      "ignoring frame_no=12840\n",
      "ignoring frame_no=12870\n",
      "ignoring frame_no=12900\n",
      "ignoring frame_no=12930\n",
      "ignoring frame_no=12960\n",
      "ignoring frame_no=12990\n",
      "ignoring frame_no=13020\n",
      "ignoring frame_no=13050\n",
      "len(video_content_lst) = 160\n"
     ]
    }
   ],
   "source": [
    "# Extract frames as data URLs\n",
    "video_path = \"data/YT_download/Final_Destination_All_Deaths.mp4\"\n",
    "video_content_lst = extract_frames_as_data_urls(\n",
    "    video_path, \n",
    "    interval_sec=1, \n",
    "    limit=32*5\n",
    ")\n",
    "print(f\"len(video_content_lst) = {len(video_content_lst)}\")"
   ]
  },
  {
   "cell_type": "markdown",
   "id": "9e1c0b58-657c-448c-a5eb-e186b8b03b3f",
   "metadata": {},
   "source": [
    "## Break video into sub videos"
   ]
  },
  {
   "cell_type": "code",
   "execution_count": 24,
   "id": "51504207-23ba-43ff-bf27-4dced79b2737",
   "metadata": {},
   "outputs": [
    {
     "name": "stdout",
     "output_type": "stream",
     "text": [
      "num_chunks = 5, chunk_size = 32\n"
     ]
    }
   ],
   "source": [
    "chunk_size = 32\n",
    "content_chunks = chunk_list(video_content_lst, chunk_size)\n",
    "print(f\"num_chunks = {len(content_chunks)}, chunk_size = {chunk_size}\")"
   ]
  },
  {
   "cell_type": "markdown",
   "id": "4695058d-0268-4b75-be8c-2854b5bba6e4",
   "metadata": {},
   "source": [
    "## inference"
   ]
  },
  {
   "cell_type": "code",
   "execution_count": 25,
   "id": "b657e359-2054-40f5-9417-17be2ae0e0b1",
   "metadata": {
    "scrolled": true
   },
   "outputs": [
    {
     "name": "stdout",
     "output_type": "stream",
     "text": [
      "processing chunk 1/5 with 32 frames\n"
     ]
    },
    {
     "data": {
      "text/html": [
       "<pre style=\"white-space:pre;overflow-x:auto;line-height:normal;font-family:Menlo,'DejaVu Sans Mono',consolas,'Courier New',monospace\">        rating: NC16\n",
       "</pre>\n"
      ],
      "text/plain": [
       "        rating: NC16\n"
      ]
     },
     "metadata": {},
     "output_type": "display_data"
    },
    {
     "data": {
      "text/html": [
       "<pre style=\"white-space:pre;overflow-x:auto;line-height:normal;font-family:Menlo,'DejaVu Sans Mono',consolas,'Courier New',monospace\">        overall_rationale: Scenes depict intense accidental deaths, including a prolonged strangulation in a \n",
       "bathtub with panic and close-ups, and a sudden vehicle impact resulting in blood splatter. Threat and distress are \n",
       "sustained but gore is limited. Other elements are minimal.\n",
       "</pre>\n"
      ],
      "text/plain": [
       "        overall_rationale: Scenes depict intense accidental deaths, including a prolonged strangulation in a \n",
       "bathtub with panic and close-ups, and a sudden vehicle impact resulting in blood splatter. Threat and distress are \n",
       "sustained but gore is limited. Other elements are minimal.\n"
      ]
     },
     "metadata": {},
     "output_type": "display_data"
    },
    {
     "name": "stdout",
     "output_type": "stream",
     "text": [
      "processing chunk 2/5 with 32 frames\n"
     ]
    },
    {
     "data": {
      "text/html": [
       "<pre style=\"white-space:pre;overflow-x:auto;line-height:normal;font-family:Menlo,'DejaVu Sans Mono',consolas,'Courier New',monospace\">        rating: M18\n",
       "</pre>\n"
      ],
      "text/plain": [
       "        rating: M18\n"
      ]
     },
     "metadata": {},
     "output_type": "display_data"
    },
    {
     "data": {
      "text/html": [
       "<pre style=\"white-space:pre;overflow-x:auto;line-height:normal;font-family:Menlo,'DejaVu Sans Mono',consolas,'Courier New',monospace\">        overall_rationale: Frames show graphic, close-up depictions of injury and death, including impalement, \n",
       "extensive bleeding, and a likely decapitation, within a sustained horror context. The strength of the gore and \n",
       "intensity of peril place the film at M18 under IMDA guidelines.\n",
       "</pre>\n"
      ],
      "text/plain": [
       "        overall_rationale: Frames show graphic, close-up depictions of injury and death, including impalement, \n",
       "extensive bleeding, and a likely decapitation, within a sustained horror context. The strength of the gore and \n",
       "intensity of peril place the film at M18 under IMDA guidelines.\n"
      ]
     },
     "metadata": {},
     "output_type": "display_data"
    },
    {
     "name": "stdout",
     "output_type": "stream",
     "text": [
      "processing chunk 3/5 with 32 frames\n"
     ]
    },
    {
     "data": {
      "text/html": [
       "<pre style=\"white-space:pre;overflow-x:auto;line-height:normal;font-family:Menlo,'DejaVu Sans Mono',consolas,'Courier New',monospace\">        rating: PG13\n",
       "</pre>\n"
      ],
      "text/plain": [
       "        rating: PG13\n"
      ]
     },
     "metadata": {},
     "output_type": "display_data"
    },
    {
     "data": {
      "text/html": [
       "<pre style=\"white-space:pre;overflow-x:auto;line-height:normal;font-family:Menlo,'DejaVu Sans Mono',consolas,'Courier New',monospace\">        overall_rationale: Sample frames show intense peril and accident imagery: car explosions and a truck crash \n",
       "with burning wreckage, and a near‑impalement from a falling ladder. Violence is impactful but lacks gore or \n",
       "explicit injuries. Horror elements are suspenseful but non-detailed. No sex, nudity <span style=\"font-weight: bold\">(</span>beyond non-sexual male torso<span style=\"font-weight: bold\">)</span>,\n",
       "drugs, or coarse language observed.\n",
       "</pre>\n"
      ],
      "text/plain": [
       "        overall_rationale: Sample frames show intense peril and accident imagery: car explosions and a truck crash \n",
       "with burning wreckage, and a near‑impalement from a falling ladder. Violence is impactful but lacks gore or \n",
       "explicit injuries. Horror elements are suspenseful but non-detailed. No sex, nudity \u001b[1m(\u001b[0mbeyond non-sexual male torso\u001b[1m)\u001b[0m,\n",
       "drugs, or coarse language observed.\n"
      ]
     },
     "metadata": {},
     "output_type": "display_data"
    },
    {
     "name": "stdout",
     "output_type": "stream",
     "text": [
      "processing chunk 4/5 with 32 frames\n"
     ]
    },
    {
     "data": {
      "text/html": [
       "<pre style=\"white-space:pre;overflow-x:auto;line-height:normal;font-family:Menlo,'DejaVu Sans Mono',consolas,'Courier New',monospace\">        rating: M18\n",
       "</pre>\n"
      ],
      "text/plain": [
       "        rating: M18\n"
      ]
     },
     "metadata": {},
     "output_type": "display_data"
    },
    {
     "data": {
      "text/html": [
       "<pre style=\"white-space:pre;overflow-x:auto;line-height:normal;font-family:Menlo,'DejaVu Sans Mono',consolas,'Courier New',monospace\">        overall_rationale: Graphic accidental deaths with blood and gore <span style=\"font-weight: bold\">(</span>impalement through head, crushing by \n",
       "falling object, elevator death, explosion and severed limb<span style=\"font-weight: bold\">)</span> shown with close-ups and recurring peril. Horror tone \n",
       "and mature themes of death/fate. Little to no sex/nudity; brief smoking.\n",
       "</pre>\n"
      ],
      "text/plain": [
       "        overall_rationale: Graphic accidental deaths with blood and gore \u001b[1m(\u001b[0mimpalement through head, crushing by \n",
       "falling object, elevator death, explosion and severed limb\u001b[1m)\u001b[0m shown with close-ups and recurring peril. Horror tone \n",
       "and mature themes of death/fate. Little to no sex/nudity; brief smoking.\n"
      ]
     },
     "metadata": {},
     "output_type": "display_data"
    },
    {
     "name": "stdout",
     "output_type": "stream",
     "text": [
      "processing chunk 5/5 with 32 frames\n"
     ]
    },
    {
     "data": {
      "text/html": [
       "<pre style=\"white-space:pre;overflow-x:auto;line-height:normal;font-family:Menlo,'DejaVu Sans Mono',consolas,'Courier New',monospace\">        rating: M18\n",
       "</pre>\n"
      ],
      "text/plain": [
       "        rating: M18\n"
      ]
     },
     "metadata": {},
     "output_type": "display_data"
    },
    {
     "data": {
      "text/html": [
       "<pre style=\"white-space:pre;overflow-x:auto;line-height:normal;font-family:Menlo,'DejaVu Sans Mono',consolas,'Courier New',monospace\">        overall_rationale: Graphic violence and gore in multiple death sequences <span style=\"font-weight: bold\">(</span>e.g., bisection, burned/charred \n",
       "body on a table, explosive hospital corridor incident<span style=\"font-weight: bold\">)</span> with sustained peril. Other elements <span style=\"font-weight: bold\">(</span>sex, nudity, drugs, \n",
       "language<span style=\"font-weight: bold\">)</span> are not evident from the sample. The cumulative impact of strong-detail injuries places the film at M18.\n",
       "</pre>\n"
      ],
      "text/plain": [
       "        overall_rationale: Graphic violence and gore in multiple death sequences \u001b[1m(\u001b[0me.g., bisection, burned/charred \n",
       "body on a table, explosive hospital corridor incident\u001b[1m)\u001b[0m with sustained peril. Other elements \u001b[1m(\u001b[0msex, nudity, drugs, \n",
       "language\u001b[1m)\u001b[0m are not evident from the sample. The cumulative impact of strong-detail injuries places the film at M18.\n"
      ]
     },
     "metadata": {},
     "output_type": "display_data"
    },
    {
     "name": "stdout",
     "output_type": "stream",
     "text": [
      "done\n"
     ]
    }
   ],
   "source": [
    "output_json_lst = []\n",
    "for idx, content_chunk in enumerate(content_chunks):\n",
    "    print(f\"processing chunk {idx + 1}/{len(content_chunks)} with {len(content_chunk)} frames\")\n",
    "    input_messages = make_message(content_chunk)\n",
    "    response = inference_text(client, input_messages)\n",
    "\n",
    "    # parse each response as JSON\n",
    "    parsed = json.loads(response.output_text)\n",
    "\n",
    "    # verbose current output\n",
    "    rating = parsed['rating']\n",
    "    rich_print(f\"\\trating: {rating}\")\n",
    "    overall_rationale = parsed['overall_rationale']\n",
    "    rich_print(f\"\\toverall_rationale: {overall_rationale}\")\n",
    "    \n",
    "    output_json_lst.append(parsed)\n",
    "\n",
    "print(f\"done\")"
   ]
  },
  {
   "cell_type": "markdown",
   "id": "facb3cef-7289-4862-8fc4-9cc7e703b008",
   "metadata": {},
   "source": [
    "### example of response"
   ]
  },
  {
   "cell_type": "code",
   "execution_count": 29,
   "id": "59e2b1ae-9122-4c04-b037-a181be52d8f6",
   "metadata": {
    "scrolled": true
   },
   "outputs": [
    {
     "data": {
      "text/html": [
       "<pre style=\"white-space:pre;overflow-x:auto;line-height:normal;font-family:Menlo,'DejaVu Sans Mono',consolas,'Courier New',monospace\"><span style=\"font-weight: bold\">{</span>\n",
       "    <span style=\"color: #008000; text-decoration-color: #008000\">'rating'</span>: <span style=\"color: #008000; text-decoration-color: #008000\">'M18'</span>,\n",
       "    <span style=\"color: #008000; text-decoration-color: #008000\">'decision_type'</span>: <span style=\"color: #008000; text-decoration-color: #008000\">'age-restricted'</span>,\n",
       "    <span style=\"color: #008000; text-decoration-color: #008000\">'overall_rationale'</span>: <span style=\"color: #008000; text-decoration-color: #008000\">'Graphic violence and gore in multiple death sequences (e.g., bisection, burned/charred </span>\n",
       "<span style=\"color: #008000; text-decoration-color: #008000\">body on a table, explosive hospital corridor incident) with sustained peril. Other elements (sex, nudity, drugs, </span>\n",
       "<span style=\"color: #008000; text-decoration-color: #008000\">language) are not evident from the sample. The cumulative impact of strong-detail injuries places the film at </span>\n",
       "<span style=\"color: #008000; text-decoration-color: #008000\">M18.'</span>,\n",
       "    <span style=\"color: #008000; text-decoration-color: #008000\">'element_assessments'</span>: <span style=\"font-weight: bold\">{</span>\n",
       "        <span style=\"color: #008000; text-decoration-color: #008000\">'theme_message'</span>: <span style=\"font-weight: bold\">{</span>\n",
       "            <span style=\"color: #008000; text-decoration-color: #008000\">'severity'</span>: <span style=\"color: #008000; text-decoration-color: #008000\">'moderate'</span>,\n",
       "            <span style=\"color: #008000; text-decoration-color: #008000\">'rating_floor'</span>: <span style=\"color: #008000; text-decoration-color: #008000\">'PG13'</span>,\n",
       "            <span style=\"color: #008000; text-decoration-color: #008000\">'notes'</span>: <span style=\"color: #008000; text-decoration-color: #008000\">'Macabre fate/death theme with characters facing lethal accidents and peril.'</span>\n",
       "        <span style=\"font-weight: bold\">}</span>,\n",
       "        <span style=\"color: #008000; text-decoration-color: #008000\">'violence'</span>: <span style=\"font-weight: bold\">{</span>\n",
       "            <span style=\"color: #008000; text-decoration-color: #008000\">'severity'</span>: <span style=\"color: #008000; text-decoration-color: #008000\">'strong'</span>,\n",
       "            <span style=\"color: #008000; text-decoration-color: #008000\">'frequency'</span>: <span style=\"color: #008000; text-decoration-color: #008000\">'frequent'</span>,\n",
       "            <span style=\"color: #008000; text-decoration-color: #008000\">'detail'</span>: <span style=\"color: #008000; text-decoration-color: #008000\">'strong'</span>,\n",
       "            <span style=\"color: #008000; text-decoration-color: #008000\">'rating_floor'</span>: <span style=\"color: #008000; text-decoration-color: #008000\">'M18'</span>,\n",
       "            <span style=\"color: #008000; text-decoration-color: #008000\">'notes'</span>: <span style=\"color: #008000; text-decoration-color: #008000\">'Graphic injury detail including a person split in half with blood, charred corpse presented </span>\n",
       "<span style=\"color: #008000; text-decoration-color: #008000\">on a table, and fiery explosions causing visible harm. Emphasis on death scenes.'</span>\n",
       "        <span style=\"font-weight: bold\">}</span>,\n",
       "        <span style=\"color: #008000; text-decoration-color: #008000\">'sex'</span>: <span style=\"font-weight: bold\">{</span>\n",
       "            <span style=\"color: #008000; text-decoration-color: #008000\">'severity'</span>: <span style=\"color: #008000; text-decoration-color: #008000\">'none'</span>,\n",
       "            <span style=\"color: #008000; text-decoration-color: #008000\">'frequency'</span>: <span style=\"color: #008000; text-decoration-color: #008000\">'none'</span>,\n",
       "            <span style=\"color: #008000; text-decoration-color: #008000\">'detail'</span>: <span style=\"color: #008000; text-decoration-color: #008000\">'none'</span>,\n",
       "            <span style=\"color: #008000; text-decoration-color: #008000\">'rating_floor'</span>: <span style=\"color: #008000; text-decoration-color: #008000\">'G'</span>,\n",
       "            <span style=\"color: #008000; text-decoration-color: #008000\">'notes'</span>: <span style=\"color: #008000; text-decoration-color: #008000\">'No sexual content observed.'</span>\n",
       "        <span style=\"font-weight: bold\">}</span>,\n",
       "        <span style=\"color: #008000; text-decoration-color: #008000\">'nudity'</span>: <span style=\"font-weight: bold\">{</span>\n",
       "            <span style=\"color: #008000; text-decoration-color: #008000\">'severity'</span>: <span style=\"color: #008000; text-decoration-color: #008000\">'none'</span>,\n",
       "            <span style=\"color: #008000; text-decoration-color: #008000\">'frequency'</span>: <span style=\"color: #008000; text-decoration-color: #008000\">'none'</span>,\n",
       "            <span style=\"color: #008000; text-decoration-color: #008000\">'detail'</span>: <span style=\"color: #008000; text-decoration-color: #008000\">'none'</span>,\n",
       "            <span style=\"color: #008000; text-decoration-color: #008000\">'rating_floor'</span>: <span style=\"color: #008000; text-decoration-color: #008000\">'G'</span>,\n",
       "            <span style=\"color: #008000; text-decoration-color: #008000\">'notes'</span>: <span style=\"color: #008000; text-decoration-color: #008000\">'No nudity observed.'</span>\n",
       "        <span style=\"font-weight: bold\">}</span>,\n",
       "        <span style=\"color: #008000; text-decoration-color: #008000\">'language'</span>: <span style=\"font-weight: bold\">{</span>\n",
       "            <span style=\"color: #008000; text-decoration-color: #008000\">'severity'</span>: <span style=\"color: #008000; text-decoration-color: #008000\">'none'</span>,\n",
       "            <span style=\"color: #008000; text-decoration-color: #008000\">'frequency'</span>: <span style=\"color: #008000; text-decoration-color: #008000\">'none'</span>,\n",
       "            <span style=\"color: #008000; text-decoration-color: #008000\">'detail'</span>: <span style=\"color: #008000; text-decoration-color: #008000\">'none'</span>,\n",
       "            <span style=\"color: #008000; text-decoration-color: #008000\">'rating_floor'</span>: <span style=\"color: #008000; text-decoration-color: #008000\">'G'</span>,\n",
       "            <span style=\"color: #008000; text-decoration-color: #008000\">'notes'</span>: <span style=\"color: #008000; text-decoration-color: #008000\">'No coarse language evident in the sample.'</span>\n",
       "        <span style=\"font-weight: bold\">}</span>,\n",
       "        <span style=\"color: #008000; text-decoration-color: #008000\">'drugs'</span>: <span style=\"font-weight: bold\">{</span>\n",
       "            <span style=\"color: #008000; text-decoration-color: #008000\">'severity'</span>: <span style=\"color: #008000; text-decoration-color: #008000\">'none'</span>,\n",
       "            <span style=\"color: #008000; text-decoration-color: #008000\">'frequency'</span>: <span style=\"color: #008000; text-decoration-color: #008000\">'none'</span>,\n",
       "            <span style=\"color: #008000; text-decoration-color: #008000\">'detail'</span>: <span style=\"color: #008000; text-decoration-color: #008000\">'none'</span>,\n",
       "            <span style=\"color: #008000; text-decoration-color: #008000\">'rating_floor'</span>: <span style=\"color: #008000; text-decoration-color: #008000\">'G'</span>,\n",
       "            <span style=\"color: #008000; text-decoration-color: #008000\">'notes'</span>: <span style=\"color: #008000; text-decoration-color: #008000\">'No drug or substance abuse depicted.'</span>\n",
       "        <span style=\"font-weight: bold\">}</span>,\n",
       "        <span style=\"color: #008000; text-decoration-color: #008000\">'horror'</span>: <span style=\"font-weight: bold\">{</span>\n",
       "            <span style=\"color: #008000; text-decoration-color: #008000\">'severity'</span>: <span style=\"color: #008000; text-decoration-color: #008000\">'strong'</span>,\n",
       "            <span style=\"color: #008000; text-decoration-color: #008000\">'frequency'</span>: <span style=\"color: #008000; text-decoration-color: #008000\">'occasional'</span>,\n",
       "            <span style=\"color: #008000; text-decoration-color: #008000\">'detail'</span>: <span style=\"color: #008000; text-decoration-color: #008000\">'moderate'</span>,\n",
       "            <span style=\"color: #008000; text-decoration-color: #008000\">'rating_floor'</span>: <span style=\"color: #008000; text-decoration-color: #008000\">'NC16'</span>,\n",
       "            <span style=\"color: #008000; text-decoration-color: #008000\">'notes'</span>: <span style=\"color: #008000; text-decoration-color: #008000\">'Sustained threat and disturbing death imagery; shock moments and peril.'</span>\n",
       "        <span style=\"font-weight: bold\">}</span>\n",
       "    <span style=\"font-weight: bold\">}</span>,\n",
       "    <span style=\"color: #008000; text-decoration-color: #008000\">'public_order_harmony_flags'</span>: <span style=\"font-weight: bold\">{</span>\n",
       "        <span style=\"color: #008000; text-decoration-color: #008000\">'racial_religious_sensitivity'</span>: <span style=\"color: #008000; text-decoration-color: #008000\">'none'</span>,\n",
       "        <span style=\"color: #008000; text-decoration-color: #008000\">'national_interest_public_order'</span>: <span style=\"color: #008000; text-decoration-color: #008000\">'none'</span>,\n",
       "        <span style=\"color: #008000; text-decoration-color: #008000\">'notes'</span>: <span style=\"color: #008000; text-decoration-color: #008000\">''</span>\n",
       "    <span style=\"font-weight: bold\">}</span>,\n",
       "    <span style=\"color: #008000; text-decoration-color: #008000\">'refusal'</span>: <span style=\"font-weight: bold\">{</span><span style=\"color: #008000; text-decoration-color: #008000\">'is_refused'</span>: <span style=\"color: #ff0000; text-decoration-color: #ff0000; font-style: italic\">False</span>, <span style=\"color: #008000; text-decoration-color: #008000\">'grounds'</span>: <span style=\"font-weight: bold\">[]</span>, <span style=\"color: #008000; text-decoration-color: #008000\">'notes'</span>: <span style=\"color: #008000; text-decoration-color: #008000\">''</span><span style=\"font-weight: bold\">}</span>,\n",
       "    <span style=\"color: #008000; text-decoration-color: #008000\">'consumer_advice'</span>: <span style=\"font-weight: bold\">[</span><span style=\"color: #008000; text-decoration-color: #008000\">'Violence'</span>, <span style=\"color: #008000; text-decoration-color: #008000\">'Horror'</span>, <span style=\"color: #008000; text-decoration-color: #008000\">'Mature Themes'</span><span style=\"font-weight: bold\">]</span>,\n",
       "    <span style=\"color: #008000; text-decoration-color: #008000\">'recommended_edits_for_lower_rating'</span>: <span style=\"font-weight: bold\">[</span>\n",
       "        <span style=\"color: #008000; text-decoration-color: #008000\">'Reduce shot duration and remove close-ups of injuries during death scenes.'</span>,\n",
       "        <span style=\"color: #008000; text-decoration-color: #008000\">'Stage violent impacts off-screen with reaction shots and aftermath only.'</span>,\n",
       "        <span style=\"color: #008000; text-decoration-color: #008000\">'Limit gory postmortem imagery (e.g., charred body on table) and avoid lingering on blood.'</span>,\n",
       "        <span style=\"color: #008000; text-decoration-color: #008000\">'Dial down accentuating sound effects during violent moments.'</span>\n",
       "    <span style=\"font-weight: bold\">]</span>,\n",
       "    <span style=\"color: #008000; text-decoration-color: #008000\">'confidence'</span>: <span style=\"color: #008080; text-decoration-color: #008080; font-weight: bold\">0.64</span>\n",
       "<span style=\"font-weight: bold\">}</span>\n",
       "</pre>\n"
      ],
      "text/plain": [
       "\u001b[1m{\u001b[0m\n",
       "    \u001b[32m'rating'\u001b[0m: \u001b[32m'M18'\u001b[0m,\n",
       "    \u001b[32m'decision_type'\u001b[0m: \u001b[32m'age-restricted'\u001b[0m,\n",
       "    \u001b[32m'overall_rationale'\u001b[0m: \u001b[32m'Graphic violence and gore in multiple death sequences \u001b[0m\u001b[32m(\u001b[0m\u001b[32me.g., bisection, burned/charred \u001b[0m\n",
       "\u001b[32mbody on a table, explosive hospital corridor incident\u001b[0m\u001b[32m)\u001b[0m\u001b[32m with sustained peril. Other elements \u001b[0m\u001b[32m(\u001b[0m\u001b[32msex, nudity, drugs, \u001b[0m\n",
       "\u001b[32mlanguage\u001b[0m\u001b[32m)\u001b[0m\u001b[32m are not evident from the sample. The cumulative impact of strong-detail injuries places the film at \u001b[0m\n",
       "\u001b[32mM18.'\u001b[0m,\n",
       "    \u001b[32m'element_assessments'\u001b[0m: \u001b[1m{\u001b[0m\n",
       "        \u001b[32m'theme_message'\u001b[0m: \u001b[1m{\u001b[0m\n",
       "            \u001b[32m'severity'\u001b[0m: \u001b[32m'moderate'\u001b[0m,\n",
       "            \u001b[32m'rating_floor'\u001b[0m: \u001b[32m'PG13'\u001b[0m,\n",
       "            \u001b[32m'notes'\u001b[0m: \u001b[32m'Macabre fate/death theme with characters facing lethal accidents and peril.'\u001b[0m\n",
       "        \u001b[1m}\u001b[0m,\n",
       "        \u001b[32m'violence'\u001b[0m: \u001b[1m{\u001b[0m\n",
       "            \u001b[32m'severity'\u001b[0m: \u001b[32m'strong'\u001b[0m,\n",
       "            \u001b[32m'frequency'\u001b[0m: \u001b[32m'frequent'\u001b[0m,\n",
       "            \u001b[32m'detail'\u001b[0m: \u001b[32m'strong'\u001b[0m,\n",
       "            \u001b[32m'rating_floor'\u001b[0m: \u001b[32m'M18'\u001b[0m,\n",
       "            \u001b[32m'notes'\u001b[0m: \u001b[32m'Graphic injury detail including a person split in half with blood, charred corpse presented \u001b[0m\n",
       "\u001b[32mon a table, and fiery explosions causing visible harm. Emphasis on death scenes.'\u001b[0m\n",
       "        \u001b[1m}\u001b[0m,\n",
       "        \u001b[32m'sex'\u001b[0m: \u001b[1m{\u001b[0m\n",
       "            \u001b[32m'severity'\u001b[0m: \u001b[32m'none'\u001b[0m,\n",
       "            \u001b[32m'frequency'\u001b[0m: \u001b[32m'none'\u001b[0m,\n",
       "            \u001b[32m'detail'\u001b[0m: \u001b[32m'none'\u001b[0m,\n",
       "            \u001b[32m'rating_floor'\u001b[0m: \u001b[32m'G'\u001b[0m,\n",
       "            \u001b[32m'notes'\u001b[0m: \u001b[32m'No sexual content observed.'\u001b[0m\n",
       "        \u001b[1m}\u001b[0m,\n",
       "        \u001b[32m'nudity'\u001b[0m: \u001b[1m{\u001b[0m\n",
       "            \u001b[32m'severity'\u001b[0m: \u001b[32m'none'\u001b[0m,\n",
       "            \u001b[32m'frequency'\u001b[0m: \u001b[32m'none'\u001b[0m,\n",
       "            \u001b[32m'detail'\u001b[0m: \u001b[32m'none'\u001b[0m,\n",
       "            \u001b[32m'rating_floor'\u001b[0m: \u001b[32m'G'\u001b[0m,\n",
       "            \u001b[32m'notes'\u001b[0m: \u001b[32m'No nudity observed.'\u001b[0m\n",
       "        \u001b[1m}\u001b[0m,\n",
       "        \u001b[32m'language'\u001b[0m: \u001b[1m{\u001b[0m\n",
       "            \u001b[32m'severity'\u001b[0m: \u001b[32m'none'\u001b[0m,\n",
       "            \u001b[32m'frequency'\u001b[0m: \u001b[32m'none'\u001b[0m,\n",
       "            \u001b[32m'detail'\u001b[0m: \u001b[32m'none'\u001b[0m,\n",
       "            \u001b[32m'rating_floor'\u001b[0m: \u001b[32m'G'\u001b[0m,\n",
       "            \u001b[32m'notes'\u001b[0m: \u001b[32m'No coarse language evident in the sample.'\u001b[0m\n",
       "        \u001b[1m}\u001b[0m,\n",
       "        \u001b[32m'drugs'\u001b[0m: \u001b[1m{\u001b[0m\n",
       "            \u001b[32m'severity'\u001b[0m: \u001b[32m'none'\u001b[0m,\n",
       "            \u001b[32m'frequency'\u001b[0m: \u001b[32m'none'\u001b[0m,\n",
       "            \u001b[32m'detail'\u001b[0m: \u001b[32m'none'\u001b[0m,\n",
       "            \u001b[32m'rating_floor'\u001b[0m: \u001b[32m'G'\u001b[0m,\n",
       "            \u001b[32m'notes'\u001b[0m: \u001b[32m'No drug or substance abuse depicted.'\u001b[0m\n",
       "        \u001b[1m}\u001b[0m,\n",
       "        \u001b[32m'horror'\u001b[0m: \u001b[1m{\u001b[0m\n",
       "            \u001b[32m'severity'\u001b[0m: \u001b[32m'strong'\u001b[0m,\n",
       "            \u001b[32m'frequency'\u001b[0m: \u001b[32m'occasional'\u001b[0m,\n",
       "            \u001b[32m'detail'\u001b[0m: \u001b[32m'moderate'\u001b[0m,\n",
       "            \u001b[32m'rating_floor'\u001b[0m: \u001b[32m'NC16'\u001b[0m,\n",
       "            \u001b[32m'notes'\u001b[0m: \u001b[32m'Sustained threat and disturbing death imagery; shock moments and peril.'\u001b[0m\n",
       "        \u001b[1m}\u001b[0m\n",
       "    \u001b[1m}\u001b[0m,\n",
       "    \u001b[32m'public_order_harmony_flags'\u001b[0m: \u001b[1m{\u001b[0m\n",
       "        \u001b[32m'racial_religious_sensitivity'\u001b[0m: \u001b[32m'none'\u001b[0m,\n",
       "        \u001b[32m'national_interest_public_order'\u001b[0m: \u001b[32m'none'\u001b[0m,\n",
       "        \u001b[32m'notes'\u001b[0m: \u001b[32m''\u001b[0m\n",
       "    \u001b[1m}\u001b[0m,\n",
       "    \u001b[32m'refusal'\u001b[0m: \u001b[1m{\u001b[0m\u001b[32m'is_refused'\u001b[0m: \u001b[3;91mFalse\u001b[0m, \u001b[32m'grounds'\u001b[0m: \u001b[1m[\u001b[0m\u001b[1m]\u001b[0m, \u001b[32m'notes'\u001b[0m: \u001b[32m''\u001b[0m\u001b[1m}\u001b[0m,\n",
       "    \u001b[32m'consumer_advice'\u001b[0m: \u001b[1m[\u001b[0m\u001b[32m'Violence'\u001b[0m, \u001b[32m'Horror'\u001b[0m, \u001b[32m'Mature Themes'\u001b[0m\u001b[1m]\u001b[0m,\n",
       "    \u001b[32m'recommended_edits_for_lower_rating'\u001b[0m: \u001b[1m[\u001b[0m\n",
       "        \u001b[32m'Reduce shot duration and remove close-ups of injuries during death scenes.'\u001b[0m,\n",
       "        \u001b[32m'Stage violent impacts off-screen with reaction shots and aftermath only.'\u001b[0m,\n",
       "        \u001b[32m'Limit gory postmortem imagery \u001b[0m\u001b[32m(\u001b[0m\u001b[32me.g., charred body on table\u001b[0m\u001b[32m)\u001b[0m\u001b[32m and avoid lingering on blood.'\u001b[0m,\n",
       "        \u001b[32m'Dial down accentuating sound effects during violent moments.'\u001b[0m\n",
       "    \u001b[1m]\u001b[0m,\n",
       "    \u001b[32m'confidence'\u001b[0m: \u001b[1;36m0.64\u001b[0m\n",
       "\u001b[1m}\u001b[0m\n"
      ]
     },
     "metadata": {},
     "output_type": "display_data"
    }
   ],
   "source": [
    "rich_print(parsed)"
   ]
  },
  {
   "cell_type": "markdown",
   "id": "6b3f0115-3e9e-48ce-b93a-9e61e8786134",
   "metadata": {},
   "source": [
    "## verbose"
   ]
  },
  {
   "cell_type": "code",
   "execution_count": 26,
   "id": "50ee7448-6cc8-4875-b87a-e81262469bbd",
   "metadata": {},
   "outputs": [],
   "source": [
    "df = pd.DataFrame({\n",
    "    'rating': [i['rating'] for i in output_json_lst],\n",
    "    'overall_rationale': [i['overall_rationale'] for i in output_json_lst],\n",
    "})\n",
    "\n",
    "df['overall_rationale'] = df['overall_rationale'].str.wrap(80)"
   ]
  },
  {
   "cell_type": "code",
   "execution_count": 27,
   "id": "f2e8f3ec-92c4-40b1-aa9e-470f1ee4c8bc",
   "metadata": {
    "scrolled": true
   },
   "outputs": [
    {
     "data": {
      "text/html": [
       "<table border=\"1\" class=\"dataframe\">\n",
       "  <thead>\n",
       "    <tr style=\"text-align: right;\">\n",
       "      <th></th>\n",
       "      <th>rating</th>\n",
       "      <th>overall_rationale</th>\n",
       "    </tr>\n",
       "  </thead>\n",
       "  <tbody>\n",
       "    <tr>\n",
       "      <th>0</th>\n",
       "      <td>NC16</td>\n",
       "      <td>Scenes depict intense accidental deaths, including a prolonged strangulation in<br>a bathtub with panic and close-ups, and a sudden vehicle impact resulting in<br>blood splatter. Threat and distress are sustained but gore is limited. Other<br>elements are minimal.</td>\n",
       "    </tr>\n",
       "    <tr>\n",
       "      <th>1</th>\n",
       "      <td>M18</td>\n",
       "      <td>Frames show graphic, close-up depictions of injury and death, including<br>impalement, extensive bleeding, and a likely decapitation, within a sustained<br>horror context. The strength of the gore and intensity of peril place the film<br>at M18 under IMDA guidelines.</td>\n",
       "    </tr>\n",
       "    <tr>\n",
       "      <th>2</th>\n",
       "      <td>PG13</td>\n",
       "      <td>Sample frames show intense peril and accident imagery: car explosions and a<br>truck crash with burning wreckage, and a near‑impalement from a falling ladder.<br>Violence is impactful but lacks gore or explicit injuries. Horror elements are<br>suspenseful but non-detailed. No sex, nudity (beyond non-sexual male torso),<br>drugs, or coarse language observed.</td>\n",
       "    </tr>\n",
       "    <tr>\n",
       "      <th>3</th>\n",
       "      <td>M18</td>\n",
       "      <td>Graphic accidental deaths with blood and gore (impalement through head, crushing<br>by falling object, elevator death, explosion and severed limb) shown with close-<br>ups and recurring peril. Horror tone and mature themes of death/fate. Little to<br>no sex/nudity; brief smoking.</td>\n",
       "    </tr>\n",
       "    <tr>\n",
       "      <th>4</th>\n",
       "      <td>M18</td>\n",
       "      <td>Graphic violence and gore in multiple death sequences (e.g., bisection,<br>burned/charred body on a table, explosive hospital corridor incident) with<br>sustained peril. Other elements (sex, nudity, drugs, language) are not evident<br>from the sample. The cumulative impact of strong-detail injuries places the film<br>at M18.</td>\n",
       "    </tr>\n",
       "  </tbody>\n",
       "</table>"
      ],
      "text/plain": [
       "<IPython.core.display.HTML object>"
      ]
     },
     "metadata": {},
     "output_type": "display_data"
    }
   ],
   "source": [
    "display(HTML(df.to_html().replace(\"\\\\n\", \"<br>\")))"
   ]
  },
  {
   "cell_type": "markdown",
   "id": "a1c01eb5-85bc-423c-92c2-f2f4f95fe301",
   "metadata": {},
   "source": [
    "# Ensemble"
   ]
  },
  {
   "cell_type": "code",
   "execution_count": 28,
   "id": "8a6ce88c-1c3f-4c7f-b6f9-589fff4560ed",
   "metadata": {},
   "outputs": [],
   "source": [
    "# to do"
   ]
  },
  {
   "cell_type": "markdown",
   "id": "59e91af9-14b4-45bd-8386-3d6e929c5a62",
   "metadata": {},
   "source": [
    "# Generate Report"
   ]
  },
  {
   "cell_type": "code",
   "execution_count": 28,
   "id": "a72ee621-f7a9-449d-bbba-278171dbc4f4",
   "metadata": {},
   "outputs": [],
   "source": [
    "# to do"
   ]
  },
  {
   "cell_type": "code",
   "execution_count": null,
   "id": "433734f5-8194-4d7e-8446-fdb65eb0cc5c",
   "metadata": {},
   "outputs": [],
   "source": []
  }
 ],
 "metadata": {
  "kernelspec": {
   "display_name": "Python 3 (ipykernel)",
   "language": "python",
   "name": "python3"
  },
  "language_info": {
   "codemirror_mode": {
    "name": "ipython",
    "version": 3
   },
   "file_extension": ".py",
   "mimetype": "text/x-python",
   "name": "python",
   "nbconvert_exporter": "python",
   "pygments_lexer": "ipython3",
   "version": "3.11.13"
  }
 },
 "nbformat": 4,
 "nbformat_minor": 5
}
