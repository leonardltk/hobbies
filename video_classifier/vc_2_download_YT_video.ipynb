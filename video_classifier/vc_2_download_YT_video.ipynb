{
 "cells": [
  {
   "cell_type": "code",
   "execution_count": 1,
   "id": "d2e34e2c-26b9-42b4-a62e-bb19c7489777",
   "metadata": {},
   "outputs": [],
   "source": [
    "import argparse\n",
    "import os\n",
    "from pathlib import Path\n",
    "from typing import Optional\n",
    "import yt_dlp\n",
    "from rich import print as rich_print"
   ]
  },
  {
   "cell_type": "code",
   "execution_count": 2,
   "id": "7c688acd-8edc-40a2-83e7-a918496a3088",
   "metadata": {},
   "outputs": [],
   "source": [
    "def ensure_directory(path: str) -> None:\n",
    "    \"\"\"Create directory if it does not exist.\"\"\"\n",
    "    os.makedirs(path, exist_ok=True)"
   ]
  },
  {
   "cell_type": "code",
   "execution_count": 3,
   "id": "3de68cfc-9818-4723-890a-839fcf90c7da",
   "metadata": {},
   "outputs": [],
   "source": [
    "def download_youtube_to_mp4(\n",
    "    url: str,\n",
    "    output_dir: str,\n",
    "    filename_stem: Optional[str] = None,\n",
    ") -> str:\n",
    "    \"\"\"Download a YouTube video and save as mp4 in output_dir.\n",
    "\n",
    "    Tries to prefer mp4 formats; falls back to best available and remuxes to mp4 when possible.\n",
    "    Returns the path to the resulting file if it can be determined, otherwise the directory.\n",
    "    \"\"\"\n",
    "\n",
    "    ensure_directory(output_dir)\n",
    "\n",
    "    # Build output template\n",
    "    if filename_stem:\n",
    "        # Ensure .mp4 extension in final name\n",
    "        outtmpl = os.path.join(output_dir, f\"{filename_stem}.%(ext)s\")\n",
    "    else:\n",
    "        # Use YouTube title; yt-dlp will set the extension\n",
    "        outtmpl = os.path.join(output_dir, \"%(title)s.%(ext)s\")\n",
    "\n",
    "    # Prefer progressive MP4; otherwise merge best streams and remux to mp4 (requires ffmpeg)\n",
    "    format_selector = \"best[ext=mp4]/bv*[ext=mp4]+ba[ext=m4a]/b/bv*+ba\"\n",
    "\n",
    "    # Track final file path via hooks because postprocessors may change extension\n",
    "    final_path_container: dict[str, Path] = {}\n",
    "\n",
    "    def _hook(d: dict) -> None:\n",
    "        if d.get(\"status\") == \"finished\":\n",
    "            filename = d.get(\"filename\")\n",
    "            if filename:\n",
    "                final_path_container[\"path\"] = Path(filename)\n",
    "\n",
    "    ydl_opts: dict = {\n",
    "        \"format\": format_selector,\n",
    "        \"outtmpl\": outtmpl,\n",
    "        \"noplaylist\": True,\n",
    "        \"merge_output_format\": \"mp4\",\n",
    "        \"postprocessors\": [\n",
    "            {\"key\": \"FFmpegVideoRemuxer\", \"preferedformat\": \"mp4\"},\n",
    "        ],\n",
    "        \"progress_hooks\": [_hook],\n",
    "        \"quiet\": False,\n",
    "    }\n",
    "\n",
    "    rich_print(f\"[bold green]Downloading[/] → {url}\")\n",
    "    rich_print(f\"[bold]Output dir[/]: {output_dir}\")\n",
    "\n",
    "    with yt_dlp.YoutubeDL(ydl_opts) as ydl:\n",
    "        info = ydl.extract_info(url, download=True)\n",
    "\n",
    "    # Try to resolve the final mp4 path\n",
    "    if \"path\" in final_path_container:\n",
    "        candidate = final_path_container[\"path\"]\n",
    "    else:\n",
    "        # Fallback: construct from prepared filename\n",
    "        with yt_dlp.YoutubeDL({\"outtmpl\": outtmpl}) as ydl:\n",
    "            prepared = Path(ydl.prepare_filename(info))\n",
    "        candidate = prepared\n",
    "\n",
    "    # Normalize to .mp4 if remuxed\n",
    "    mp4_candidate = candidate.with_suffix(\".mp4\")\n",
    "    if mp4_candidate.exists():\n",
    "        rich_print(f\"[bold green]Saved[/]: {mp4_candidate}\")\n",
    "        return mp4_candidate\n",
    "\n",
    "    # If not mp4, return whatever was produced\n",
    "    if candidate.exists():\n",
    "        rich_print(f\"[yellow]Saved (non-mp4)[/]: {candidate}\")\n",
    "        return candidate\n",
    "\n",
    "    rich_print(\"[red]Could not determine final file path, but download likely completed.[/]\")\n",
    "    return output_dir"
   ]
  },
  {
   "cell_type": "markdown",
   "id": "ff4ef0b1-aba1-44b8-a28c-b4c9cf18bebd",
   "metadata": {},
   "source": [
    "## Final_Destination (official PG 13 trailer)"
   ]
  },
  {
   "cell_type": "code",
   "execution_count": 5,
   "id": "052f3016-1a96-4f87-8fd7-25cb18137754",
   "metadata": {
    "scrolled": true
   },
   "outputs": [
    {
     "data": {
      "text/html": [
       "<pre style=\"white-space:pre;overflow-x:auto;line-height:normal;font-family:Menlo,'DejaVu Sans Mono',consolas,'Courier New',monospace\"><span style=\"color: #008000; text-decoration-color: #008000; font-weight: bold\">Downloading</span> → <span style=\"color: #0000ff; text-decoration-color: #0000ff; text-decoration: underline\">https://www.youtube.com/watch?v=UWMzKXsY9A4</span>\n",
       "</pre>\n"
      ],
      "text/plain": [
       "\u001b[1;32mDownloading\u001b[0m → \u001b[4;94mhttps://www.youtube.com/watch?\u001b[0m\u001b[4;94mv\u001b[0m\u001b[4;94m=\u001b[0m\u001b[4;94mUWMzKXsY9A4\u001b[0m\n"
      ]
     },
     "metadata": {},
     "output_type": "display_data"
    },
    {
     "data": {
      "text/html": [
       "<pre style=\"white-space:pre;overflow-x:auto;line-height:normal;font-family:Menlo,'DejaVu Sans Mono',consolas,'Courier New',monospace\"><span style=\"font-weight: bold\">Output dir</span>: data/YT_download/\n",
       "</pre>\n"
      ],
      "text/plain": [
       "\u001b[1mOutput dir\u001b[0m: data/YT_download/\n"
      ]
     },
     "metadata": {},
     "output_type": "display_data"
    },
    {
     "name": "stdout",
     "output_type": "stream",
     "text": [
      "[youtube] Extracting URL: https://www.youtube.com/watch?v=UWMzKXsY9A4\n",
      "[youtube] UWMzKXsY9A4: Downloading webpage\n",
      "[youtube] UWMzKXsY9A4: Downloading tv client config\n",
      "[youtube] UWMzKXsY9A4: Downloading tv player API JSON\n",
      "[youtube] UWMzKXsY9A4: Downloading ios player API JSON\n"
     ]
    },
    {
     "name": "stderr",
     "output_type": "stream",
     "text": [
      "WARNING: [youtube] UWMzKXsY9A4: Some web client https formats have been skipped as they are missing a url. YouTube is forcing SABR streaming for this client. See  https://github.com/yt-dlp/yt-dlp/issues/12482  for more details\n"
     ]
    },
    {
     "name": "stdout",
     "output_type": "stream",
     "text": [
      "[youtube] UWMzKXsY9A4: Downloading m3u8 information\n",
      "[info] UWMzKXsY9A4: Downloading 1 format(s): 18\n",
      "[download] Destination: data/YT_download/Final_Destination.mp4\n",
      "[download] 100% of    9.40MiB in 00:00:00 at 13.84MiB/s  \n",
      "[VideoRemuxer] Not remuxing media file \"data/YT_download/Final_Destination.mp4\"; already is in target format mp4\n"
     ]
    },
    {
     "data": {
      "text/html": [
       "<pre style=\"white-space:pre;overflow-x:auto;line-height:normal;font-family:Menlo,'DejaVu Sans Mono',consolas,'Courier New',monospace\"><span style=\"color: #008000; text-decoration-color: #008000; font-weight: bold\">Saved</span>: data/YT_download/Final_Destination.mp4\n",
       "</pre>\n"
      ],
      "text/plain": [
       "\u001b[1;32mSaved\u001b[0m: data/YT_download/Final_Destination.mp4\n"
      ]
     },
     "metadata": {},
     "output_type": "display_data"
    },
    {
     "data": {
      "text/html": [
       "<pre style=\"white-space:pre;overflow-x:auto;line-height:normal;font-family:Menlo,'DejaVu Sans Mono',consolas,'Courier New',monospace\"><span style=\"font-weight: bold\">Result</span>: data/YT_download/Final_Destination.mp4\n",
       "</pre>\n"
      ],
      "text/plain": [
       "\u001b[1mResult\u001b[0m: data/YT_download/Final_Destination.mp4\n"
      ]
     },
     "metadata": {},
     "output_type": "display_data"
    }
   ],
   "source": [
    "url = \"https://www.youtube.com/watch?v=UWMzKXsY9A4\"\n",
    "output_dir = \"data/YT_download/\"\n",
    "name = \"Final_Destination\"\n",
    "\n",
    "result_path = download_youtube_to_mp4(\n",
    "    url=url,\n",
    "    output_dir=output_dir,\n",
    "    filename_stem=name,\n",
    ")\n",
    "rich_print(f\"[bold]Result[/]: {result_path}\")"
   ]
  },
  {
   "cell_type": "markdown",
   "id": "ca0edee3-4f4a-4b58-a118-4d37bba9c99a",
   "metadata": {},
   "source": [
    "## Final_Destination_All_Deaths (fanmade M18/R21 scenes)"
   ]
  },
  {
   "cell_type": "code",
   "execution_count": null,
   "id": "cf6f3800-a1cd-4e1b-a3f6-8cf3331443d0",
   "metadata": {
    "scrolled": true
   },
   "outputs": [],
   "source": [
    "url = \"https://www.youtube.com/watch?v=tLnGQxjShB4\"\n",
    "output_dir = \"data/YT_download/\"\n",
    "name = \"Final_Destination_All_Deaths\"\n",
    "\n",
    "result_path = download_youtube_to_mp4(\n",
    "    url=url,\n",
    "    output_dir=output_dir,\n",
    "    filename_stem=name,\n",
    ")\n",
    "rich_print(f\"[bold]Result[/]: {result_path}\")"
   ]
  },
  {
   "cell_type": "code",
   "execution_count": null,
   "id": "d390796d-84d8-49e3-a927-fdbda4330450",
   "metadata": {},
   "outputs": [],
   "source": []
  },
  {
   "cell_type": "code",
   "execution_count": null,
   "id": "78e06abc-a533-4f51-9339-0a3dac3d444c",
   "metadata": {},
   "outputs": [],
   "source": []
  }
 ],
 "metadata": {
  "kernelspec": {
   "display_name": "Python 3 (ipykernel)",
   "language": "python",
   "name": "python3"
  },
  "language_info": {
   "codemirror_mode": {
    "name": "ipython",
    "version": 3
   },
   "file_extension": ".py",
   "mimetype": "text/x-python",
   "name": "python",
   "nbconvert_exporter": "python",
   "pygments_lexer": "ipython3",
   "version": "3.11.13"
  }
 },
 "nbformat": 4,
 "nbformat_minor": 5
}
